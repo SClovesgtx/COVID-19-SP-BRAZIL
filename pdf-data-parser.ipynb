{
 "cells": [
  {
   "cell_type": "markdown",
   "metadata": {},
   "source": [
    "[Novo Coronavírus (2019-nCov) - Situação Epidemiológica no ESP](http://www.saude.sp.gov.br/cve-centro-de-vigilancia-epidemiologica-prof.-alexandre-vranjac/areas-de-vigilancia/doencas-de-transmissao-respiratoria/coronavirus-covid-19/situacao-epidemiologica)"
   ]
  },
  {
   "cell_type": "code",
   "execution_count": 219,
   "metadata": {},
   "outputs": [],
   "source": [
    "from geopy.geocoders import Nominatim\n",
    "from geopy.exc import GeocoderTimedOut\n",
    "import folium\n",
    "from folium import plugins\n",
    "import tabula\n",
    "import pandas as pd\n",
    "import os"
   ]
  },
  {
   "cell_type": "code",
   "execution_count": 5,
   "metadata": {},
   "outputs": [],
   "source": [
    "df = tabula.read_pdf(\"coronavirus100420_44situacao_epidemiologica.pdf\", pages='all')"
   ]
  },
  {
   "cell_type": "code",
   "execution_count": 6,
   "metadata": {},
   "outputs": [
    {
     "data": {
      "text/plain": [
       "[  Unnamed: 0 Situação em números de COVID-19 (casos confirmados e óbitos)\n",
       " 0    Mundial  Óbitos Mundo Estado de São Paulo Óbitos Estado...          ,\n",
       "    Casos de COVID-19 por município de residência, São Paulo, 21 de janeiro a 10 de abril de 2020  \\\n",
       " 0   MUNICÍPIO CONFIRMADOS ÓBITOS MUNICÍPIO CONFIRM...                                              \n",
       " 1        ÁGUAS DE LINDÓIA 1 1 ILHA COMPRIDA 9 - POÁ 9                                              \n",
       " 2   ÁGUAS DE SÃO PEDRO 1 - ILHABELA 1 - PORTO FERR...                                              \n",
       " 3           AGUDOS 1 1 INDAIATUBA 3 - PRAIA GRANDE 14                                              \n",
       " 4   AMERICANA 3 2 IRACEMÁPOLIS 1 - PRESIDENTE PRUD...                                              \n",
       " 5   ARAÇATUBA 15 - ITANHAÉM 2 - PRESIDENTE VENCESL...                                              \n",
       " 6   ARAÇOIABA DA SERRA 1 - ITAPECERICA DA SERRA 26...                                              \n",
       " 7   ARARAQUARA 7 1 ITAPETININGA 3 1 RIBEIRÃO PIRES 15                                              \n",
       " 8            ARARAS 3 - ITAPEVA 1 - RIBEIRÃO PRETO 36                                              \n",
       " 9         ARTUR NOGUEIRA 1 - ITAPEVI 17 4 RIO CLARO 3                                              \n",
       " 10       ARUJÁ 10 1 ITAPIRA 1 - RIO GRANDE DA SERRA 4                                              \n",
       " 11             ASSIS 4 1 ITAQUAQUECETUBA 24 - SALTO 3                                              \n",
       " 12       ATIBAIA 13 - ITARARÉ 1 - SALTO DE PIRAPORA 2                                              \n",
       " 13      AVARÉ 3 - ITATIBA 1 1 SANTA BÁRBARA D'OESTE 1                                              \n",
       " 14       BADY BASSITT 1 - ITATINGA 1 - SANTA BRANCA 2                                              \n",
       " 15  BARRA DO TURVO 1 - ITU 2 - SANTA CRUZ DO RIO P...                                              \n",
       " 16            BARRETOS 4 - ITUPEVA 1 - SANTA ISABEL 1                                              \n",
       " 17  BARUERI 44 2 JABOTICABAL 5 2 SANTANA DE PARNAÍ...                                              \n",
       " 18           BATATAIS 1 - JACAREÍ 1 - SANTO ANDRÉ 139                                              \n",
       " 19                     BAURU 11 1 JACI 1 - SANTOS 144                                              \n",
       " 20  BEBEDOURO 2 - JAGUARIÚNA 1 - SÃO BERNARDO DO C...                                              \n",
       " 21        BIRIGUI 2 - JALES 1 - SÃO CAETANO DO SUL 62                                              \n",
       " 22               BOITUVA 4 - JANDIRA 3 - SÃO CARLOS 4                                              \n",
       " 23      BOTUCATU 15 1 JAÚ 1 - SÃO JOÃO DA BOA VISTA 1                                              \n",
       " 24  BRAGANÇA PAULISTA 26 4 JOANÓPOLIS 1 - SÃO JOSÉ...                                              \n",
       " 25  BRODOWSKI 2 - JOSÉ BONIFÁCIO 2 - SÃO JOSÉ DO R...                                              \n",
       " 26   CAÇAPAVA 3 - JUNDIAÍ 12 1 SÃO JOSÉ DOS CAMPOS 85                                              \n",
       " 27  CACHOEIRA PAULISTA 1 - LARANJAL PAULISTA 2 1 S...                                              \n",
       " 28  CAIEIRAS 32 4 LENÇÓIS PAULISTA 3 - SÃO MIGUEL ...                                              \n",
       " 29             CAJAMAR 5 1 LIMEIRA 4 - SÃO PAULO 5982                                              \n",
       " 30            CAMPINAS 100 5 LOUVEIRA 1 - SÃO PEDRO 1                                              \n",
       " 31        CARAGUATATUBA 2 1 MAIRIPORÃ 7 2 SÃO ROQUE 3                                              \n",
       " 32       CARAPICUÍBA 29 2 MARÍLIA 4 - SÃO SEBASTIÃO 4                                              \n",
       " 33             CATANDUVA 3 2 MATÃO 2 - SÃO VICENTE 14                                              \n",
       " 34                 CEDRAL 1 - MAUÁ 42 - SERTÃOZINHO 2                                              \n",
       " 35                COTIA 53 3 MIRASSOL 4 - SOROCABA 18                                              \n",
       " 36                  CRAVINHOS 2 1 MOCOCA 2 1 SUMARÉ 2                                              \n",
       " 37         CUBATÃO 2 - MOGI DAS CRUZES 50 2 SUZANO 30                                              \n",
       " 38     DIADEMA 59 1 MOGI GUAÇU 4 1 TABOÃO DA SERRA 72                                              \n",
       " 39                DRACENA 1 1 MONTE ALTO 3 - TANABI 1                                              \n",
       " 40               ELDORADO 1 - NOVA ODESSA 1 1 TATUÍ 4                                              \n",
       " 41          EMBU DAS ARTES 33 2 OLÍMPIA 2 - TAUBATÉ 6                                              \n",
       " 42           EMBU-GUAÇU 4 - ORLÂNDIA 2 - TERRA ROXA 1                                              \n",
       " 43     FERRAZ DE VASCONCELOS 35 - OSASCO 121 8 TUPÃ 1                                              \n",
       " 44                 FRANCA 2 - OURINHOS 1 - VALINHOS 4                                              \n",
       " 45  FRANCISCO MORATO 12 1 PARIQUERA-AÇU 2 - VARGEM...                                              \n",
       " 46        FRANCO DA ROCHA 18 1 PAULÍNIA 5 - VINHEDO 7                                              \n",
       " 47         GUARARAPES 3 - PEDRA BELA 1 - VOTORANTIM 2                                              \n",
       " 48          GUARAREMA 2 - PENÁPOLIS 1 1 VOTUPORANGA 3                                              \n",
       " 49      GUARATINGUETÁ 1 - PERUÍBE 3 - OUTRO ESTADO 48                                              \n",
       " 50      GUARUJÁ 7 - PINDAMONHANGABA 1 - OUTRO PAÍS 40                                              \n",
       " 51          GUARULHOS 178 16 PINDORAMA 1 - IGNORADO 5                                              \n",
       " 52                    HORTOLÂNDIA 2 - PIRACICABA 12 -                                              \n",
       " 53                             IBIÚNA 1 - PIRAJUÍ 1 -                                              \n",
       " \n",
       "    Unnamed: 0  \n",
       " 0      ÓBITOS  \n",
       " 1           1  \n",
       " 2           1  \n",
       " 3           1  \n",
       " 4           2  \n",
       " 5           2  \n",
       " 6           -  \n",
       " 7           -  \n",
       " 8           4  \n",
       " 9           1  \n",
       " 10          -  \n",
       " 11          -  \n",
       " 12          -  \n",
       " 13          -  \n",
       " 14          1  \n",
       " 15          -  \n",
       " 16          -  \n",
       " 17          -  \n",
       " 18          3  \n",
       " 19          5  \n",
       " 20          9  \n",
       " 21          1  \n",
       " 22          2  \n",
       " 23          -  \n",
       " 24          -  \n",
       " 25          1  \n",
       " 26          1  \n",
       " 27          1  \n",
       " 28          -  \n",
       " 29        409  \n",
       " 30          -  \n",
       " 31          -  \n",
       " 32          1  \n",
       " 33          -  \n",
       " 34          -  \n",
       " 35          2  \n",
       " 36          -  \n",
       " 37          1  \n",
       " 38          5  \n",
       " 39          -  \n",
       " 40          -  \n",
       " 41          -  \n",
       " 42          -  \n",
       " 43          -  \n",
       " 44          -  \n",
       " 45          3  \n",
       " 46          -  \n",
       " 47          -  \n",
       " 48          -  \n",
       " 49          -  \n",
       " 50          -  \n",
       " 51          -  \n",
       " 52        NaN  \n",
       " 53        NaN  ,\n",
       "    FONTE: SIVEP-Gripe, RedCap e e-SUS VE, acesso em 10/04/2020 (sujeito à alteração).  \\\n",
       " 0   Casos de COVID-19 por faixa etária, São Paulo,...                                   \n",
       " 1                          janeiro a 10 abril de 2020                                   \n",
       " 2                                                 NaN                                   \n",
       " 3                                                 NaN                                   \n",
       " 4                                                 NaN                                   \n",
       " 5                                                 NaN                                   \n",
       " 6                                                 NaN                                   \n",
       " 7                                                 NaN                                   \n",
       " 8                                                 NaN                                   \n",
       " 9                                                 NaN                                   \n",
       " 10                                                NaN                                   \n",
       " 11                                                NaN                                   \n",
       " 12                                                NaN                                   \n",
       " \n",
       "                                         Unnamed: 0  \n",
       " 0   Óbitos por COVID-19 e tipo de comorbidade, São  \n",
       " 1                                      Paulo, 2020  \n",
       " 2                                 Comorbidades N %  \n",
       " 3                             Cardiopatia 298 65,1  \n",
       " 4                       Diabetes mellitus 202 44,1  \n",
       " 5                 Outros fatores de risco 179 39,1  \n",
       " 6                              Pneumopatia 73 15,9  \n",
       " 7                       Doença neurológica 55 12,0  \n",
       " 8                              Doença renal 40 8,7  \n",
       " 9                            Imunodepressão 38 8,3  \n",
       " 10                                Obesidade 22 4,8  \n",
       " 11                                     Asma 13 2,8  \n",
       " 12                      Doença hematológica 12 2,6  ,\n",
       "   FONTE: SIVEP-Gripe, RedCap e e-SUS VE, acesso em 10/04/2020 (sujeito à alteração). FONTE: SIVEP-Gripe, até 10/04/20 às 08h30 (sujeitos à alteração).\n",
       " 0  Óbitos por COVID-19, faixa etária e fatores de...                                                                                                  \n",
       " 1                      Comorbidades/fatores de risco                                                                                                  \n",
       " 2                                       Faixa etária                                                                                                  \n",
       " 3                                        Sim % Não %                                                                                                  \n",
       " 4                             10-19 anos 2 0,4 0 0,0                                                                                                  \n",
       " 5                            20-39 anos 11 2,0 9 1,7                                                                                                  \n",
       " 6                          40-59 anos 57 10,6 19 3,5                                                                                                  \n",
       " 7                         ≥ 60 anos 388 71,8 54 10,0                                                                                                  \n",
       " 8                             Total 458 84,8 82 15,2                                                                                                  ]"
      ]
     },
     "execution_count": 6,
     "metadata": {},
     "output_type": "execute_result"
    }
   ],
   "source": [
    "df"
   ]
  },
  {
   "cell_type": "code",
   "execution_count": 15,
   "metadata": {},
   "outputs": [
    {
     "data": {
      "text/plain": [
       "4"
      ]
     },
     "execution_count": 15,
     "metadata": {},
     "output_type": "execute_result"
    }
   ],
   "source": [
    "len(df)"
   ]
  },
  {
   "cell_type": "code",
   "execution_count": 16,
   "metadata": {},
   "outputs": [],
   "source": [
    "df_covid = df[1]"
   ]
  },
  {
   "cell_type": "code",
   "execution_count": 17,
   "metadata": {},
   "outputs": [
    {
     "data": {
      "text/html": [
       "<div>\n",
       "<style scoped>\n",
       "    .dataframe tbody tr th:only-of-type {\n",
       "        vertical-align: middle;\n",
       "    }\n",
       "\n",
       "    .dataframe tbody tr th {\n",
       "        vertical-align: top;\n",
       "    }\n",
       "\n",
       "    .dataframe thead th {\n",
       "        text-align: right;\n",
       "    }\n",
       "</style>\n",
       "<table border=\"1\" class=\"dataframe\">\n",
       "  <thead>\n",
       "    <tr style=\"text-align: right;\">\n",
       "      <th></th>\n",
       "      <th>Casos de COVID-19 por município de residência, São Paulo, 21 de janeiro a 10 de abril de 2020</th>\n",
       "      <th>Unnamed: 0</th>\n",
       "    </tr>\n",
       "  </thead>\n",
       "  <tbody>\n",
       "    <tr>\n",
       "      <th>0</th>\n",
       "      <td>MUNICÍPIO CONFIRMADOS ÓBITOS MUNICÍPIO CONFIRM...</td>\n",
       "      <td>ÓBITOS</td>\n",
       "    </tr>\n",
       "    <tr>\n",
       "      <th>1</th>\n",
       "      <td>ÁGUAS DE LINDÓIA 1 1 ILHA COMPRIDA 9 - POÁ 9</td>\n",
       "      <td>1</td>\n",
       "    </tr>\n",
       "    <tr>\n",
       "      <th>2</th>\n",
       "      <td>ÁGUAS DE SÃO PEDRO 1 - ILHABELA 1 - PORTO FERR...</td>\n",
       "      <td>1</td>\n",
       "    </tr>\n",
       "    <tr>\n",
       "      <th>3</th>\n",
       "      <td>AGUDOS 1 1 INDAIATUBA 3 - PRAIA GRANDE 14</td>\n",
       "      <td>1</td>\n",
       "    </tr>\n",
       "    <tr>\n",
       "      <th>4</th>\n",
       "      <td>AMERICANA 3 2 IRACEMÁPOLIS 1 - PRESIDENTE PRUD...</td>\n",
       "      <td>2</td>\n",
       "    </tr>\n",
       "  </tbody>\n",
       "</table>\n",
       "</div>"
      ],
      "text/plain": [
       "  Casos de COVID-19 por município de residência, São Paulo, 21 de janeiro a 10 de abril de 2020  \\\n",
       "0  MUNICÍPIO CONFIRMADOS ÓBITOS MUNICÍPIO CONFIRM...                                              \n",
       "1       ÁGUAS DE LINDÓIA 1 1 ILHA COMPRIDA 9 - POÁ 9                                              \n",
       "2  ÁGUAS DE SÃO PEDRO 1 - ILHABELA 1 - PORTO FERR...                                              \n",
       "3          AGUDOS 1 1 INDAIATUBA 3 - PRAIA GRANDE 14                                              \n",
       "4  AMERICANA 3 2 IRACEMÁPOLIS 1 - PRESIDENTE PRUD...                                              \n",
       "\n",
       "  Unnamed: 0  \n",
       "0     ÓBITOS  \n",
       "1          1  \n",
       "2          1  \n",
       "3          1  \n",
       "4          2  "
      ]
     },
     "execution_count": 17,
     "metadata": {},
     "output_type": "execute_result"
    }
   ],
   "source": [
    "df_covid.head()"
   ]
  },
  {
   "cell_type": "code",
   "execution_count": 18,
   "metadata": {},
   "outputs": [
    {
     "data": {
      "text/plain": [
       "Index(['Casos de COVID-19 por município de residência, São Paulo, 21 de janeiro a 10 de abril de 2020', 'Unnamed: 0'], dtype='object')"
      ]
     },
     "execution_count": 18,
     "metadata": {},
     "output_type": "execute_result"
    }
   ],
   "source": [
    "df_covid.columns"
   ]
  },
  {
   "cell_type": "code",
   "execution_count": 19,
   "metadata": {},
   "outputs": [],
   "source": [
    "data = df_covid['Casos de COVID-19 por município de residência, São Paulo, 21 de janeiro a 10 de abril de 2020'].tolist()"
   ]
  },
  {
   "cell_type": "code",
   "execution_count": 21,
   "metadata": {},
   "outputs": [
    {
     "data": {
      "text/plain": [
       "['MUNICÍPIO CONFIRMADOS ÓBITOS MUNICÍPIO CONFIRMADOS ÓBITOS MUNICÍPIO CONFIRMADOS',\n",
       " 'ÁGUAS DE LINDÓIA 1 1 ILHA COMPRIDA 9 - POÁ 9',\n",
       " 'ÁGUAS DE SÃO PEDRO 1 - ILHABELA 1 - PORTO FERREIRA 2',\n",
       " 'AGUDOS 1 1 INDAIATUBA 3 - PRAIA GRANDE 14',\n",
       " 'AMERICANA 3 2 IRACEMÁPOLIS 1 - PRESIDENTE PRUDENTE 3']"
      ]
     },
     "execution_count": 21,
     "metadata": {},
     "output_type": "execute_result"
    }
   ],
   "source": [
    "data[:5]"
   ]
  },
  {
   "cell_type": "code",
   "execution_count": 37,
   "metadata": {},
   "outputs": [],
   "source": [
    "data2 = [str(item[0]) + \" \" + str(item[1]) for item in zip(data, df_covid['Unnamed: 0'].tolist())]"
   ]
  },
  {
   "cell_type": "code",
   "execution_count": 38,
   "metadata": {},
   "outputs": [
    {
     "data": {
      "text/plain": [
       "['MUNICÍPIO CONFIRMADOS ÓBITOS MUNICÍPIO CONFIRMADOS ÓBITOS MUNICÍPIO CONFIRMADOS ÓBITOS',\n",
       " 'ÁGUAS DE LINDÓIA 1 1 ILHA COMPRIDA 9 - POÁ 9 1',\n",
       " 'ÁGUAS DE SÃO PEDRO 1 - ILHABELA 1 - PORTO FERREIRA 2 1',\n",
       " 'AGUDOS 1 1 INDAIATUBA 3 - PRAIA GRANDE 14 1',\n",
       " 'AMERICANA 3 2 IRACEMÁPOLIS 1 - PRESIDENTE PRUDENTE 3 2']"
      ]
     },
     "execution_count": 38,
     "metadata": {},
     "output_type": "execute_result"
    }
   ],
   "source": [
    "data2[:5]"
   ]
  },
  {
   "cell_type": "code",
   "execution_count": 39,
   "metadata": {},
   "outputs": [
    {
     "data": {
      "text/plain": [
       "['ÁGUAS DE LINDÓIA 1 1 ILHA COMPRIDA 9 - POÁ 9 1',\n",
       " 'ÁGUAS DE SÃO PEDRO 1 - ILHABELA 1 - PORTO FERREIRA 2 1',\n",
       " 'AGUDOS 1 1 INDAIATUBA 3 - PRAIA GRANDE 14 1',\n",
       " 'AMERICANA 3 2 IRACEMÁPOLIS 1 - PRESIDENTE PRUDENTE 3 2',\n",
       " 'ARAÇATUBA 15 - ITANHAÉM 2 - PRESIDENTE VENCESLAU 4 2']"
      ]
     },
     "execution_count": 39,
     "metadata": {},
     "output_type": "execute_result"
    }
   ],
   "source": [
    "del data2[0]\n",
    "data2[:5]"
   ]
  },
  {
   "attachments": {
    "image.png": {
     "image/png": "[encoded data removed]"
    }
   },
   "cell_type": "markdown",
   "metadata": {},
   "source": [
    "![image.png](attachment:image.png)"
   ]
  },
  {
   "cell_type": "code",
   "execution_count": 54,
   "metadata": {},
   "outputs": [
    {
     "data": {
      "text/plain": [
       "[('ÁGUAS DE LINDÓIA ', '1 1 '), ('ILHA COMPRIDA ', '9 - '), ('POÁ ', '9 1')]"
      ]
     },
     "execution_count": 54,
     "metadata": {},
     "output_type": "execute_result"
    }
   ],
   "source": [
    "# ([A-ZùÙÁÁÀÂÄÉÈÊÍÌÓÒÔÖÚÙÜ ])|([0-9-])\n",
    "\n",
    "import re\n",
    "\n",
    "s = 'ÁGUAS DE LINDÓIA 1 1 ILHA COMPRIDA 9 - POÁ 9 1'\n",
    "\n",
    "m = re.compile(r'([A-ZùÙÁÁÀÂÄÃÉÈÊÍÌÓÒÔÖÕÚÙÜÇ ]{1,100})([0-9- ]{1,10})')\n",
    "g = m.findall(s)\n",
    "g"
   ]
  },
  {
   "cell_type": "code",
   "execution_count": 57,
   "metadata": {},
   "outputs": [
    {
     "data": {
      "text/plain": [
       "[('ÁGUAS DE LINDÓIA ', '1 1 '),\n",
       " ('ILHA COMPRIDA ', '9 - '),\n",
       " ('POÁ ', '9 1'),\n",
       " ('ÁGUAS DE SÃO PEDRO ', '1 - '),\n",
       " ('ILHABELA ', '1 - ')]"
      ]
     },
     "execution_count": 57,
     "metadata": {},
     "output_type": "execute_result"
    }
   ],
   "source": [
    "data3 = []\n",
    "for string in data2:\n",
    "    data3 += m.findall(string)\n",
    "data3[:5]"
   ]
  },
  {
   "cell_type": "code",
   "execution_count": 60,
   "metadata": {},
   "outputs": [
    {
     "data": {
      "text/plain": [
       "[9, None]"
      ]
     },
     "execution_count": 60,
     "metadata": {},
     "output_type": "execute_result"
    }
   ],
   "source": [
    "cases  = '9 - '.split(\" \")\n",
    "cases = [int(s) if s != '-' else None for s in cases if s != '']\n",
    "cases"
   ]
  },
  {
   "cell_type": "code",
   "execution_count": 69,
   "metadata": {},
   "outputs": [
    {
     "data": {
      "text/plain": [
       "[['ÁGUAS DE LINDÓIA', 1, 1],\n",
       " ['ILHA COMPRIDA', 9, 0],\n",
       " ['POÁ', 9, 1],\n",
       " ['ÁGUAS DE SÃO PEDRO', 1, 0],\n",
       " ['ILHABELA', 1, 0]]"
      ]
     },
     "execution_count": 69,
     "metadata": {},
     "output_type": "execute_result"
    }
   ],
   "source": [
    "data4 = []\n",
    "for item in data3:\n",
    "    cases = item[1]\n",
    "    cases = cases.split(\" \")\n",
    "    cases = [int(s) if s != '-' else 0 for s in cases if s != '']\n",
    "    data4.append([item[0][:-1]] + cases)\n",
    "        \n",
    "data4[:5]"
   ]
  },
  {
   "cell_type": "code",
   "execution_count": 70,
   "metadata": {},
   "outputs": [
    {
     "data": {
      "text/html": [
       "<div>\n",
       "<style scoped>\n",
       "    .dataframe tbody tr th:only-of-type {\n",
       "        vertical-align: middle;\n",
       "    }\n",
       "\n",
       "    .dataframe tbody tr th {\n",
       "        vertical-align: top;\n",
       "    }\n",
       "\n",
       "    .dataframe thead th {\n",
       "        text-align: right;\n",
       "    }\n",
       "</style>\n",
       "<table border=\"1\" class=\"dataframe\">\n",
       "  <thead>\n",
       "    <tr style=\"text-align: right;\">\n",
       "      <th></th>\n",
       "      <th>municipio</th>\n",
       "      <th>confirmados</th>\n",
       "      <th>obitos</th>\n",
       "    </tr>\n",
       "  </thead>\n",
       "  <tbody>\n",
       "    <tr>\n",
       "      <th>0</th>\n",
       "      <td>ÁGUAS DE LINDÓIA</td>\n",
       "      <td>1.0</td>\n",
       "      <td>1.0</td>\n",
       "    </tr>\n",
       "    <tr>\n",
       "      <th>1</th>\n",
       "      <td>ILHA COMPRIDA</td>\n",
       "      <td>9.0</td>\n",
       "      <td>0.0</td>\n",
       "    </tr>\n",
       "    <tr>\n",
       "      <th>2</th>\n",
       "      <td>POÁ</td>\n",
       "      <td>9.0</td>\n",
       "      <td>1.0</td>\n",
       "    </tr>\n",
       "    <tr>\n",
       "      <th>3</th>\n",
       "      <td>ÁGUAS DE SÃO PEDRO</td>\n",
       "      <td>1.0</td>\n",
       "      <td>0.0</td>\n",
       "    </tr>\n",
       "    <tr>\n",
       "      <th>4</th>\n",
       "      <td>ILHABELA</td>\n",
       "      <td>1.0</td>\n",
       "      <td>0.0</td>\n",
       "    </tr>\n",
       "  </tbody>\n",
       "</table>\n",
       "</div>"
      ],
      "text/plain": [
       "            municipio  confirmados  obitos\n",
       "0    ÁGUAS DE LINDÓIA          1.0     1.0\n",
       "1       ILHA COMPRIDA          9.0     0.0\n",
       "2                 POÁ          9.0     1.0\n",
       "3  ÁGUAS DE SÃO PEDRO          1.0     0.0\n",
       "4            ILHABELA          1.0     0.0"
      ]
     },
     "execution_count": 70,
     "metadata": {},
     "output_type": "execute_result"
    }
   ],
   "source": [
    "df_covid_municipios = pd.DataFrame(data=data4, columns=[\"municipio\", \"confirmados\", \"obitos\"])\n",
    "df_covid_municipios.head()"
   ]
  },
  {
   "cell_type": "code",
   "execution_count": 140,
   "metadata": {},
   "outputs": [
    {
     "data": {
      "text/html": [
       "<div>\n",
       "<style scoped>\n",
       "    .dataframe tbody tr th:only-of-type {\n",
       "        vertical-align: middle;\n",
       "    }\n",
       "\n",
       "    .dataframe tbody tr th {\n",
       "        vertical-align: top;\n",
       "    }\n",
       "\n",
       "    .dataframe thead th {\n",
       "        text-align: right;\n",
       "    }\n",
       "</style>\n",
       "<table border=\"1\" class=\"dataframe\">\n",
       "  <thead>\n",
       "    <tr style=\"text-align: right;\">\n",
       "      <th></th>\n",
       "      <th>municipio</th>\n",
       "      <th>confirmados</th>\n",
       "      <th>obitos</th>\n",
       "    </tr>\n",
       "  </thead>\n",
       "  <tbody>\n",
       "    <tr>\n",
       "      <th>0</th>\n",
       "      <td>ÁGUAS DE LINDÓIA</td>\n",
       "      <td>1.0</td>\n",
       "      <td>1.0</td>\n",
       "    </tr>\n",
       "    <tr>\n",
       "      <th>1</th>\n",
       "      <td>ILHA COMPRIDA</td>\n",
       "      <td>9.0</td>\n",
       "      <td>0.0</td>\n",
       "    </tr>\n",
       "    <tr>\n",
       "      <th>2</th>\n",
       "      <td>POÁ</td>\n",
       "      <td>9.0</td>\n",
       "      <td>1.0</td>\n",
       "    </tr>\n",
       "    <tr>\n",
       "      <th>3</th>\n",
       "      <td>ÁGUAS DE SÃO PEDRO</td>\n",
       "      <td>1.0</td>\n",
       "      <td>0.0</td>\n",
       "    </tr>\n",
       "    <tr>\n",
       "      <th>4</th>\n",
       "      <td>ILHABELA</td>\n",
       "      <td>1.0</td>\n",
       "      <td>0.0</td>\n",
       "    </tr>\n",
       "    <tr>\n",
       "      <th>...</th>\n",
       "      <td>...</td>\n",
       "      <td>...</td>\n",
       "      <td>...</td>\n",
       "    </tr>\n",
       "    <tr>\n",
       "      <th>155</th>\n",
       "      <td>IGNORADO</td>\n",
       "      <td>5.0</td>\n",
       "      <td>0.0</td>\n",
       "    </tr>\n",
       "    <tr>\n",
       "      <th>156</th>\n",
       "      <td>HORTOLÂNDIA</td>\n",
       "      <td>2.0</td>\n",
       "      <td>0.0</td>\n",
       "    </tr>\n",
       "    <tr>\n",
       "      <th>157</th>\n",
       "      <td>PIRACICABA</td>\n",
       "      <td>12.0</td>\n",
       "      <td>0.0</td>\n",
       "    </tr>\n",
       "    <tr>\n",
       "      <th>158</th>\n",
       "      <td>IBIÚNA</td>\n",
       "      <td>1.0</td>\n",
       "      <td>0.0</td>\n",
       "    </tr>\n",
       "    <tr>\n",
       "      <th>159</th>\n",
       "      <td>PIRAJUÍ</td>\n",
       "      <td>1.0</td>\n",
       "      <td>0.0</td>\n",
       "    </tr>\n",
       "  </tbody>\n",
       "</table>\n",
       "<p>160 rows × 3 columns</p>\n",
       "</div>"
      ],
      "text/plain": [
       "              municipio  confirmados  obitos\n",
       "0      ÁGUAS DE LINDÓIA          1.0     1.0\n",
       "1         ILHA COMPRIDA          9.0     0.0\n",
       "2                   POÁ          9.0     1.0\n",
       "3    ÁGUAS DE SÃO PEDRO          1.0     0.0\n",
       "4              ILHABELA          1.0     0.0\n",
       "..                  ...          ...     ...\n",
       "155            IGNORADO          5.0     0.0\n",
       "156         HORTOLÂNDIA          2.0     0.0\n",
       "157          PIRACICABA         12.0     0.0\n",
       "158              IBIÚNA          1.0     0.0\n",
       "159             PIRAJUÍ          1.0     0.0\n",
       "\n",
       "[160 rows x 3 columns]"
      ]
     },
     "execution_count": 140,
     "metadata": {},
     "output_type": "execute_result"
    }
   ],
   "source": [
    "df_covid_municipios"
   ]
  },
  {
   "cell_type": "code",
   "execution_count": 146,
   "metadata": {},
   "outputs": [
    {
     "name": "stdout",
     "output_type": "stream",
     "text": [
      "municipio\n",
      "confirmados\n",
      "obitos\n"
     ]
    }
   ],
   "source": [
    "for _, row in df_covid_municipios.iterrows():\n",
    "    for col in row.index:\n",
    "        print(col)\n",
    "    break"
   ]
  },
  {
   "cell_type": "code",
   "execution_count": 145,
   "metadata": {},
   "outputs": [
    {
     "data": {
      "text/plain": [
       "Index(['municipio', 'confirmados', 'obitos'], dtype='object')"
      ]
     },
     "execution_count": 145,
     "metadata": {},
     "output_type": "execute_result"
    }
   ],
   "source": [
    "row.index"
   ]
  },
  {
   "cell_type": "markdown",
   "metadata": {},
   "source": [
    "# Organizando em Funções"
   ]
  },
  {
   "cell_type": "code",
   "execution_count": 180,
   "metadata": {},
   "outputs": [],
   "source": [
    "def parse_ugly_df(ugly_df):\n",
    "#     col_name = ugly_df.columns[0]\n",
    "#     data = ugly_df[col_name].tolist()\n",
    "#     try:\n",
    "#         data2 = [str(item[0]) + \" \" + str(item[1]) for item in zip(data, ugly_df['Unnamed: 0'].tolist())]\n",
    "#     except:\n",
    "#         try:\n",
    "#             data2 = [str(item[0]) + \" \" + str(item[1]) + \" \" + str(item[2]) for item in zip(ugly_df['Unnamed: 0'].tolist(), data, ugly_df['Unnamed: 1'].tolist())]\n",
    "#         except:\n",
    "#             data2 = data\n",
    "    data = []\n",
    "    for _, row in ugly_df.iterrows():\n",
    "        string = ''\n",
    "        for col in row.index:\n",
    "            string  += \" \" + str(row[col])\n",
    "        data.append(string)\n",
    "    \n",
    "    del data[0]\n",
    "    data2 = []\n",
    "    for string in data:\n",
    "        data2 += m.findall(string)\n",
    "    data3 = []\n",
    "    for item in data2:\n",
    "        cases = item[1]\n",
    "        cases = cases.split(\" \")\n",
    "        cases = [int(s) if s != '-' else 0 for s in cases if s != '']\n",
    "        data3.append([item[0][:-1]] + cases)\n",
    "    #print(data4)\n",
    "    petty_df = pd.DataFrame(data=data3, columns=[\"municipio\", \"confirmados\", \"obitos\"])\n",
    "    return petty_df"
   ]
  },
  {
   "cell_type": "code",
   "execution_count": 75,
   "metadata": {},
   "outputs": [
    {
     "data": {
      "text/plain": [
       "['boletim_36_02-04-20.pdf',\n",
       " 'boletim_42_08-04-20.pdf',\n",
       " 'boletim_40_06-04-20.pdf',\n",
       " 'boletim_43_09-04-20.pdf',\n",
       " 'boletim_37_03-04-20.pdf',\n",
       " 'boletim_33_30-03-20.pdf',\n",
       " 'boletim_34_31-03-20.pdf',\n",
       " 'boletim_41_07-04-20.pdf',\n",
       " 'boletim_45_11-04-20.pdf',\n",
       " 'boletim_30_25-03-20.pdf',\n",
       " 'boletim_35_01-04-20.pdf',\n",
       " 'boletim_44_10-04-20.pdf',\n",
       " 'boletim_38_04-04-20.pdf',\n",
       " 'boletim_32_27-03-20.pdf',\n",
       " 'boletim_31_26-03-20.pdf',\n",
       " 'boletim_39_05-04-20.pdf']"
      ]
     },
     "execution_count": 75,
     "metadata": {},
     "output_type": "execute_result"
    }
   ],
   "source": [
    "arr = os.listdir(\"./boletins\")\n",
    "arr"
   ]
  },
  {
   "cell_type": "code",
   "execution_count": 102,
   "metadata": {},
   "outputs": [
    {
     "data": {
      "text/plain": [
       "'02-04-2020'"
      ]
     },
     "execution_count": 102,
     "metadata": {},
     "output_type": "execute_result"
    }
   ],
   "source": [
    "'02-04-20.pdf'[:-4] + \"20\""
   ]
  },
  {
   "cell_type": "code",
   "execution_count": 155,
   "metadata": {},
   "outputs": [
    {
     "name": "stderr",
     "output_type": "stream",
     "text": [
      "Got stderr: abr 12, 2020 1:30:34 PM org.apache.pdfbox.pdmodel.font.PDCIDFontType2 <init>\n",
      "INFO: OpenType Layout tables used in font ABCDEE+Calibri are not implemented in PDFBox and will be ignored\n",
      "abr 12, 2020 1:30:34 PM org.apache.pdfbox.pdmodel.font.PDCIDFontType2 <init>\n",
      "INFO: OpenType Layout tables used in font ABCDEE+Calibri,Italic are not implemented in PDFBox and will be ignored\n",
      "abr 12, 2020 1:30:34 PM org.apache.pdfbox.pdmodel.font.PDCIDFontType2 <init>\n",
      "INFO: OpenType Layout tables used in font ABCDEE+Calibri are not implemented in PDFBox and will be ignored\n",
      "abr 12, 2020 1:30:35 PM org.apache.pdfbox.pdmodel.font.PDCIDFontType2 <init>\n",
      "INFO: OpenType Layout tables used in font ABCDEE+Calibri,Italic are not implemented in PDFBox and will be ignored\n",
      "abr 12, 2020 1:30:35 PM org.apache.pdfbox.pdmodel.font.PDCIDFontType2 <init>\n",
      "INFO: OpenType Layout tables used in font ABCDEE+Calibri are not implemented in PDFBox and will be ignored\n",
      "abr 12, 2020 1:30:36 PM org.apache.pdfbox.pdmodel.font.PDCIDFontType2 <init>\n",
      "INFO: OpenType Layout tables used in font ABCDEE+Calibri,Italic are not implemented in PDFBox and will be ignored\n",
      "\n"
     ]
    },
    {
     "name": "stdout",
     "output_type": "stream",
     "text": [
      "[(' ÁGUAS DE LINDÓIA ', '1 - '), ('ITAPEVI ', '6 - '), ('SALTO DE PIRAPORA ', '1 -'), (' AGUDOS ', '1 - '), ('ITAQUAQUECETUBA ', '5 - '), ('SANTA ISABEL ', '1 -'), (' AMERICANA ', '2 - '), ('ITARARÉ ', '1 - '), ('SANTANA DE PARNAÍBA ', '20 -'), (' ARAÇATUBA ', '2 - '), ('ITU ', '1 - '), ('SANTO ANDRÉ ', '59 2'), (' ARARAQUARA ', '1 - '), ('ITUPEVA ', '1 - '), ('SANTOS ', '37 -'), (' ARUJÁ ', '4 1 '), ('JAGUARIÚNA ', '1 - '), ('SÃO BERNARDO DO CAMPO ', '59 2'), (' ASSIS ', '1 - '), ('JANDIRA ', '2 - '), ('SÃO CAETANO DO SUL ', '33 1'), (' BARUERI ', '26 - '), ('JAÚ ', '1 - '), ('SÃO JOSÉ DO RIO PARDO ', '1 -'), (' BRODOWSKI ', '1 - '), ('JUNDIAÍ ', '5 - '), ('SÃO JOSÉ DO RIO PRETO ', '7 -'), (' CACHOEIRA PAULISTA ', '1 - '), ('LENÇÓIS PAULISTA ', '1 - '), ('SÃO JOSÉ DOS CAMPOS ', '14 -'), (' CAIEIRAS ', '15 1 '), ('LIMEIRA ', '2 - '), ('SÃO PAULO ', '2815 164'), (' CAJAMAR ', '1 - '), ('LOUVEIRA ', '1 - '), ('SÃO SEBASTIÃO ', '3 -'), (' CAMPINAS ', '23 1 '), ('MAIRIPORÃ ', '3 - '), ('SÃO VICENTE ', '3 1'), (' CARAPICUÍBA ', '11 1 '), ('MATÃO ', '2 - '), ('SOROCABA ', '3 1'), (' COTIA ', '23 2 '), ('MAUÁ ', '7 - '), ('SUZANO ', '5 1'), (' DRACENA ', '1 - '), ('MOGI DAS CRUZES ', '13 - '), ('TABOÃO DA SERRA ', '29 1'), (' EMBU DAS ARTES ', '14 1 '), ('MOGI GUAÇU ', '1 - '), ('TATUÍ ', '1 -'), (' FERRAZ DE VASCONCELOS ', '12 - '), ('NOVA ODESSA ', '1 - '), ('TAUBATÉ ', '1 -'), (' FRANCA ', '1 - '), ('OSASCO ', '51 3 '), ('VALINHOS ', '3 -'), (' FRANCISCO MORATO ', '3 1 '), ('PAULÍNIA ', '1 - '), ('VARGEM GRANDE PAULISTA ', '3 1'), (' FRANCO DA ROCHA ', '6 - '), ('PENÁPOLIS ', '1 - '), ('VINHEDO ', '1 -'), (' GUARUJÁ ', '3 - '), ('PIRACICABA ', '6 - '), ('VOTORANTIM ', '2 -'), (' GUARULHOS ', '35 2 '), ('PIRAJUÍ ', '1 - '), ('VOTUPORANGA ', '1 -'), (' HORTOLÂNDIA ', '1 - '), ('POÁ ', '2 - '), ('OUTRO ESTADO ', '38 -'), (' INDAIATUBA ', '2 - '), ('PORTO FELIZ ', '1 - '), ('OUTRO PAÍS ', '33 -'), (' IRACEMÁPOLIS ', '1 - '), ('PRAIA GRANDE ', '1 - '), ('IGNORADO ', '4 -'), (' ITANHAÉM ', '2 - '), ('RIBEIRÃO PIRES ', '2 - '), (' ITAPECERICA DA SERRA ', '4 - '), ('RIBEIRÃO PRETO ', '11 1 ')]\n"
     ]
    },
    {
     "name": "stderr",
     "output_type": "stream",
     "text": [
      "Got stderr: abr 12, 2020 1:30:37 PM org.apache.pdfbox.pdmodel.font.PDCIDFontType2 <init>\n",
      "INFO: OpenType Layout tables used in font ABCDEE+Calibri are not implemented in PDFBox and will be ignored\n",
      "abr 12, 2020 1:30:37 PM org.apache.pdfbox.pdmodel.font.PDCIDFontType2 <init>\n",
      "INFO: OpenType Layout tables used in font ABCDEE+Calibri,Italic are not implemented in PDFBox and will be ignored\n",
      "abr 12, 2020 1:30:37 PM org.apache.pdfbox.pdmodel.font.PDCIDFontType2 <init>\n",
      "INFO: OpenType Layout tables used in font ABCDEE+Calibri,Bold are not implemented in PDFBox and will be ignored\n",
      "abr 12, 2020 1:30:38 PM org.apache.pdfbox.pdmodel.font.PDCIDFontType2 <init>\n",
      "INFO: OpenType Layout tables used in font ABCDEE+Calibri are not implemented in PDFBox and will be ignored\n",
      "abr 12, 2020 1:30:38 PM org.apache.pdfbox.pdmodel.font.PDCIDFontType2 <init>\n",
      "INFO: OpenType Layout tables used in font ABCDEE+Calibri,Italic are not implemented in PDFBox and will be ignored\n",
      "abr 12, 2020 1:30:38 PM org.apache.pdfbox.pdmodel.font.PDCIDFontType2 <init>\n",
      "INFO: OpenType Layout tables used in font ABCDEE+Calibri,Bold are not implemented in PDFBox and will be ignored\n",
      "abr 12, 2020 1:30:39 PM org.apache.pdfbox.pdmodel.font.PDCIDFontType2 <init>\n",
      "INFO: OpenType Layout tables used in font ABCDEE+Calibri are not implemented in PDFBox and will be ignored\n",
      "abr 12, 2020 1:30:39 PM org.apache.pdfbox.pdmodel.font.PDCIDFontType2 <init>\n",
      "INFO: OpenType Layout tables used in font ABCDEE+Calibri,Italic are not implemented in PDFBox and will be ignored\n",
      "abr 12, 2020 1:30:39 PM org.apache.pdfbox.pdmodel.font.PDCIDFontType2 <init>\n",
      "INFO: OpenType Layout tables used in font ABCDEE+Calibri,Bold are not implemented in PDFBox and will be ignored\n",
      "\n"
     ]
    },
    {
     "name": "stdout",
     "output_type": "stream",
     "text": [
      "[(' ÁGUAS DE LINDÓIA ', '1 1 '), ('INDAIATUBA ', '3 - '), ('PRAIA GRANDE ', '12 -'), (' AGUDOS ', '1 1 '), ('IRACEMÁPOLIS ', '1 - '), ('PRESIDENTE PRUDENTE ', '1 -'), (' AMERICANA ', '3 2 '), ('ITANHAÉM ', '2 - '), ('PRESIDENTE VENCESLAU ', '2 1'), (' ARAÇATUBA ', '12 - '), ('ITAPECERICA DA SERRA ', '20 1 '), ('PROMISSÃO ', '1 -'), (' ARARAQUARA ', '5 - '), ('ITAPETININGA ', '1 - '), ('RIBEIRÃO PIRES ', '12 -'), (' ARARAS ', '2 - '), ('ITAPEVI ', '13 2 '), ('RIBEIRÃO PRETO ', '36 3'), (' ARUJÁ ', '8 1 '), ('ITAPIRA ', '1 - '), ('RIO CLARO ', '3 -'), (' ASSIS ', '2 - '), ('ITAQUAQUECETUBA ', '20 - '), ('RIO GRANDE DA SERRA ', '4 -'), (' ATIBAIA ', '9 - '), ('ITARARÉ ', '1 - '), ('SALTO ', '2 -'), (' AVARÉ ', '1 - '), ('ITATIBA ', '1 1 '), ('SALTO DE PIRAPORA ', '2 -'), (' BADY BASSITT ', '1 - '), ('ITU ', '1 - '), ('SANTA BRANCA ', '2 1'), (' BARRETOS ', '4 - '), ('ITUPEVA ', '1 - '), ('SANTA CRUZ DO RIO PARDO ', '1 -'), (' BARUERI ', '41 2 '), ('JABOTICABAL ', '4 1 '), ('SANTA ISABEL ', '1 -'), (' BATATAIS ', '1 - '), ('JACAREÍ ', '1 - '), ('SANTANA DE PARNAÍBA ', '29 -'), (' BAURU ', '8 1 '), ('JAGUARIÚNA ', '1 - '), ('SANTO ANDRÉ ', '113 3'), (' BEBEDOURO ', '2 - '), ('JALES ', '1 - '), ('SANTOS ', '109 3'), (' BIRIGUI ', '2 - '), ('JANDIRA ', '3 - '), ('SÃO BERNARDO DO CAMPO ', '147 7'), (' BOITUVA ', '2 - '), ('JAÚ ', '1 - '), ('SÃO CAETANO DO SUL ', '57 1'), (' BOTUCATU ', '9 1 '), ('JOANOPÓLIS ', '1 - '), ('SÃO CARLOS ', '1 -'), (' BRAGANÇA PAULISTA ', '16 2 '), ('JOSÉ BONIFACIO ', '2 - '), ('SÃO JOSÉ DO RIO PARDO ', '1 -'), (' BRODOWSKI ', '2 - '), ('JUNDIAÍ ', '11 1 '), ('SÃO JOSÉ DO RIO PRETO ', '36 1'), (' CAÇAPAVA ', '2 - '), ('LARANJAL PAULISTA ', '2 1 '), ('SÃO JOSÉ DOS CAMPOS ', '77 -'), (' CACHOEIRA PAULISTA ', '1 - '), ('LENÇÓIS PAULISTA ', '2 - '), ('SÃO MANUEL ', '1 -'), (' CAIEIRAS ', '31 4 '), ('LIMEIRA ', '2 - '), ('SÃO PAULO ', '4947 339'), (' CAJAMAR ', '3 - '), ('LOUVEIRA ', '1 - '), ('SÃO PEDRO ', '1 -'), (' CAMPINAS ', '72 5 '), ('MAIRIPORÃ ', '7 2 '), ('SÃO ROQUE ', '2 -'), (' CARAGUATATUBA ', '2 1 '), ('MARÍLIA ', '2 - '), ('SÃO SEBASTIÃO ', '3 1'), (' CARAPICUÍBA ', '20 2 '), ('MATÃO ', '2 - '), ('SÃO VICENTE ', '11 -'), (' CATANDUVA ', '1 1 '), ('MAUÁ ', '32 - '), ('SERTÃOZINHO ', '1 -'), (' CEDRAL ', '1 - '), ('MIRASSOL ', '3 - '), ('SOROCABA ', '13 2'), (' COTIA ', '46 3 '), ('MOCOCA ', '1 - '), ('SUMARÉ ', '2 -'), (' CRAVINHOS ', '2 1 '), ('MOGI DAS CRUZES ', '30 - '), ('SUZANO ', '16 1'), (' DIADEMA ', '46 1 '), ('MOGI GUAÇU ', '2 1 '), ('TABOÃO DA SERRA ', '59 4'), (' DRACENA ', '1 1 '), ('MONTE ALTO ', '1 - '), ('TANABI ', '1 -'), (' EMBU DAS ARTES ', '27 1 '), ('NOVA ODESSA ', '1 1 '), ('TATUÍ ', '2 -'), (' EMBU', '-'), ('GUAÇU ', '2 - '), ('OLÍMPIA ', '2 - '), ('TAUBATÉ ', '5 -'), (' FERRAZ DE VASCONCELOS ', '26 - '), ('ORLÂNDIA ', '2 - '), ('TERRA ROXA ', '1 -'), (' FRANCA ', '2 - '), ('OSASCO ', '99 6 '), ('VALINHOS ', '4 -'), (' FRANCISCO MORATO ', '9 1 '), ('PARIQUERA', '-'), ('AÇU ', '2 - '), ('VARGEM GRANDE PAULISTA ', '5 2'), (' FRANCO DA ROCHA ', '16 1 '), ('PAULÍNIA ', '2 - '), ('VINHEDO ', '2 -'), (' GUARARAPES ', '3 - '), ('PENÁPOLIS ', '1 1 '), ('VOTORANTIM ', '2 -'), (' GUARAREMA ', '2 - '), ('PERUÍBE ', '3 - '), ('VOTUPORANGA ', '3 -'), (' GUARUJÁ ', '6 - '), ('PINDAMONHANGABA ', '1 - '), ('OUTRO PAÍS ', '40 -'), (' GUARULHOS ', '119 7 '), ('PINDORAMA ', '1 - '), ('OUTRO ESTADO ', '41 -'), (' HORTOLÂNDIA ', '2 - '), ('PIRACICABA ', '12 - '), ('IGNORADO ', '5 -'), (' IBIÚNA ', '1 - '), ('PIRAJUÍ ', '1 - '), (' ILHA COMPRIDA ', '6 - '), ('POÁ ', '7 1 ')]\n"
     ]
    },
    {
     "name": "stderr",
     "output_type": "stream",
     "text": [
      "Got stderr: abr 12, 2020 1:30:40 PM org.apache.pdfbox.pdmodel.font.PDCIDFontType2 <init>\n",
      "INFO: OpenType Layout tables used in font ABCDEE+Calibri are not implemented in PDFBox and will be ignored\n",
      "abr 12, 2020 1:30:40 PM org.apache.pdfbox.pdmodel.font.PDCIDFontType2 <init>\n",
      "INFO: OpenType Layout tables used in font ABCDEE+Calibri,Italic are not implemented in PDFBox and will be ignored\n",
      "abr 12, 2020 1:30:40 PM org.apache.pdfbox.pdmodel.font.PDCIDFontType2 <init>\n",
      "INFO: OpenType Layout tables used in font ABCDEE+Calibri,Bold are not implemented in PDFBox and will be ignored\n",
      "abr 12, 2020 1:30:41 PM org.apache.pdfbox.pdmodel.font.PDCIDFontType2 <init>\n",
      "INFO: OpenType Layout tables used in font ABCDEE+Calibri are not implemented in PDFBox and will be ignored\n",
      "abr 12, 2020 1:30:41 PM org.apache.pdfbox.pdmodel.font.PDCIDFontType2 <init>\n",
      "INFO: OpenType Layout tables used in font ABCDEE+Calibri,Italic are not implemented in PDFBox and will be ignored\n",
      "abr 12, 2020 1:30:41 PM org.apache.pdfbox.pdmodel.font.PDCIDFontType2 <init>\n",
      "INFO: OpenType Layout tables used in font ABCDEE+Calibri,Bold are not implemented in PDFBox and will be ignored\n",
      "abr 12, 2020 1:30:42 PM org.apache.pdfbox.pdmodel.font.PDCIDFontType2 <init>\n",
      "INFO: OpenType Layout tables used in font ABCDEE+Calibri are not implemented in PDFBox and will be ignored\n",
      "abr 12, 2020 1:30:42 PM org.apache.pdfbox.pdmodel.font.PDCIDFontType2 <init>\n",
      "INFO: OpenType Layout tables used in font ABCDEE+Calibri,Italic are not implemented in PDFBox and will be ignored\n",
      "abr 12, 2020 1:30:42 PM org.apache.pdfbox.pdmodel.font.PDCIDFontType2 <init>\n",
      "INFO: OpenType Layout tables used in font ABCDEE+Calibri,Bold are not implemented in PDFBox and will be ignored\n",
      "\n"
     ]
    },
    {
     "name": "stdout",
     "output_type": "stream",
     "text": [
      "[(' ÁGUAS DE LINDÓIA ', '1 - '), ('IRACEMÁPOLIS ', '1 - '), ('PROMISSÃO ', '1 -'), (' AGUDOS ', '1 - '), ('ITANHAÉM ', '2 - '), ('RIBEIRÃO PIRES ', '4 -'), (' AMERICANA ', '3 2 '), ('ITAPECERICA DA SERRA ', '9 1 '), ('RIBEIRÃO PRETO ', '28 1'), (' ARAÇATUBA ', '8 - '), ('ITAPETININGA ', '1 - '), ('RIO CLARO ', '2 -'), (' ARARAQUARA ', '4 - '), ('ITAPEVI ', '11 1 '), ('SALTO DE PIRAPORA ', '1 -'), (' ARUJÁ ', '6 1 '), ('ITAPIRA ', '1 - '), ('SANTA BRANCA ', '2 -'), (' ASSIS ', '1 - '), ('ITAQUAQUECETUBA ', '12 - '), ('SANTA CRUZ DO RIO PARDO ', '2 -'), (' ATIBAIA ', '7 - '), ('ITARARÉ ', '1 - '), ('SANTA ISABEL ', '2 -'), (' BARUERI ', '31 1 '), ('ITU ', '1 - '), ('SANTANA DE PARNAÍBA ', '25 -'), (' BAURU ', '6 1 '), ('ITUPEVA ', '1 - '), ('SANTO ANDRÉ ', '74 3'), (' BIRIGUI ', '1 - '), ('JABOTICABAL ', '3 1 '), ('SANTOS ', '75 2'), (' BOITUVA ', '1 - '), ('JAGUARIUNA ', '1 - '), ('SÃO BERNARDO DO CAMPO ', '89 5'), (' BOTUCATU ', '7 - '), ('JANDIRA ', '2 - '), ('SÃO CAETANO DO SUL ', '39 1'), (' BRODOWSKI ', '1 - '), ('JAÚ ', '1 - '), ('SÃO CARLOS ', '1 -'), (' CACHOEIRA PAULISTA ', '1 - '), ('JOSÉ BONIFÁCIO ', '1 - '), ('SÃO JOSÉ DO RIO PARDO ', '1 -'), (' CAIEIRAS ', '22 4 '), ('JUNDIAÍ ', '7 - '), ('SÃO JOSÉ DO RIO PRETO ', '13 -'), (' CAJAMAR ', '1 - '), ('LENÇÓIS PAULISTA ', '1 - '), ('SÃO JOSÉ DOS CAMPOS ', '48 -'), (' CAMPINAS ', '28 4 '), ('LIMEIRA ', '2 - '), ('SÃO MANUEL ', '1 -'), (' CARAGUATATUBA ', '1 - '), ('LOUVEIRA ', '1 - '), ('SÃO PAULO ', '3754 244'), (' CARAPICUÍBA ', '16 1 '), ('MAIRIPORÃ ', '6 2 '), ('SÃO PEDRO ', '1 -'), (' CEDRAL ', '1 - '), ('MARÍLIA ', '1 - '), ('SÃO SEBASTIAO ', '3 1'), (' COTIA ', '31 3 '), ('MATÃO ', '2 - '), ('SÃO VICENTE ', '6 -'), (' CRAVINHOS ', '2 1 '), ('MAUÁ ', '18 - '), ('SOROCABA ', '10 2'), (' DIADEMA ', '25 1 '), ('MIRASSOL ', '1 - '), ('SUZANO ', '9 -'), (' DRACENA ', '1 1 '), ('MOGI DAS CRUZES ', '19 1 '), ('TABOÃO DA SERRA ', '45 3'), (' EMBU DAS ARTES ', '20 1 '), ('MOGI GUAÇU ', '1 - '), ('TATUÍ ', '1 -'), (' EMBU GUAÇU ', '1 - '), ('NOVA ODESSA ', '1 1 '), ('TAUBATÉ ', '2 -'), (' FERRAZ DE VASCONCELOS ', '16 - '), ('ORLÂNDIA ', '2 - '), ('TERRA ROXA ', '1 -'), (' FRANCA ', '2 - '), ('OSASCO ', '71 3 '), ('VALINHOS ', '3 -'), (' FRANCISCO MORATO ', '8 1 '), ('PARIQUERA AÇU ', '1 - '), ('VARGEM GRANDE PAULISTA ', '4 1'), (' FRANCO DA ROCHA ', '8 1 '), ('PAULÍNIA ', '2 - '), ('VINHEDO ', '1 -'), (' GUARARAPES ', '2 - '), ('PENÁPOLIS ', '1 1 '), ('VOTORANTIM ', '2 -'), (' GUARUJÁ ', '3 - '), ('PIRACICABA ', '8 - '), ('VOTUPORANGA ', '3 -'), (' GUARULHOS ', '63 6 '), ('PIRAJUÍ ', '1 - '), ('OUTRO ESTADO ', '35 -'), (' HORTOLÂNDIA ', '1 - '), ('POÁ ', '4 - '), ('OUTRO PAÍS ', '35 -'), (' ILHA COMPRIDA ', '1 - '), ('PRAIA GRNADE ', '4 - '), ('IGNORADO ', '5 -'), (' INDAIATUBA ', '2 - '), ('PRESIDENTE VENCESLAU ', '2 1 ')]\n"
     ]
    },
    {
     "name": "stderr",
     "output_type": "stream",
     "text": [
      "Got stderr: abr 12, 2020 1:30:44 PM org.apache.pdfbox.pdmodel.font.PDCIDFontType2 <init>\n",
      "INFO: OpenType Layout tables used in font ABCDEE+Calibri are not implemented in PDFBox and will be ignored\n",
      "abr 12, 2020 1:30:44 PM org.apache.pdfbox.pdmodel.font.PDCIDFontType2 <init>\n",
      "INFO: OpenType Layout tables used in font ABCDEE+Calibri,Italic are not implemented in PDFBox and will be ignored\n",
      "abr 12, 2020 1:30:44 PM org.apache.pdfbox.pdmodel.font.PDCIDFontType2 <init>\n",
      "INFO: OpenType Layout tables used in font ABCDEE+Calibri,Bold are not implemented in PDFBox and will be ignored\n",
      "abr 12, 2020 1:30:45 PM org.apache.pdfbox.pdmodel.font.PDCIDFontType2 <init>\n",
      "INFO: OpenType Layout tables used in font ABCDEE+Calibri are not implemented in PDFBox and will be ignored\n",
      "abr 12, 2020 1:30:45 PM org.apache.pdfbox.pdmodel.font.PDCIDFontType2 <init>\n",
      "INFO: OpenType Layout tables used in font ABCDEE+Calibri,Italic are not implemented in PDFBox and will be ignored\n",
      "abr 12, 2020 1:30:45 PM org.apache.pdfbox.pdmodel.font.PDCIDFontType2 <init>\n",
      "INFO: OpenType Layout tables used in font ABCDEE+Calibri,Bold are not implemented in PDFBox and will be ignored\n",
      "abr 12, 2020 1:30:46 PM org.apache.pdfbox.pdmodel.font.PDCIDFontType2 <init>\n",
      "INFO: OpenType Layout tables used in font ABCDEE+Calibri are not implemented in PDFBox and will be ignored\n",
      "abr 12, 2020 1:30:46 PM org.apache.pdfbox.pdmodel.font.PDCIDFontType2 <init>\n",
      "INFO: OpenType Layout tables used in font ABCDEE+Calibri,Italic are not implemented in PDFBox and will be ignored\n",
      "abr 12, 2020 1:30:46 PM org.apache.pdfbox.pdmodel.font.PDCIDFontType2 <init>\n",
      "INFO: OpenType Layout tables used in font ABCDEE+Calibri,Bold are not implemented in PDFBox and will be ignored\n",
      "\n"
     ]
    },
    {
     "name": "stdout",
     "output_type": "stream",
     "text": [
      "[(' ÁGUAS DE LINDÓIA ', '1 1 '), ('ILHA COMPRIDA ', '9 - '), ('PIRAJUÍ ', '1 -'), (' AGUDOS ', '1 1 '), ('ILHA BELA ', '1 - '), ('POÁ ', '7 1'), (' AMERICANA ', '3 2 '), ('INDAIATUBA ', '3 - '), ('PRAIA GRANDE ', '13 1'), (' ARAÇATUBA ', '13 - '), ('IRACEMÁPOLIS ', '1 - '), ('PRESIDENTE PRUDENTE ', '3 2'), (' ARARAQUARA ', '5 - '), ('ITANHAÉM ', '2 - '), ('PRESIDENTE VENCESLAU ', '3 2'), (' ARARAS ', '2 - '), ('ITAPECERICA DA SERRA ', '22 1 '), ('PROMISSÃO ', '1 -'), (' ARTUR NOGUEIRA ', '1 - '), ('ITAPETININGA ', '1 - '), ('RIBEIRÃO PIRES ', '15 -'), (' ARUJÁ ', '9 1 '), ('ITAPEVA ', '1 - '), ('RIBEIRÃO PRETO ', '36 4'), (' ASSIS ', '3 1 '), ('ITAPEVI ', '15 3 '), ('RIO CLARO ', '3 1'), (' ATIBAIA ', '11 - '), ('ITAPIRA ', '1 - '), ('RIO GRANDE DA SERRA ', '4 -'), (' AVARÉ ', '3 - '), ('ITAQUAQUECETUBA ', '24 - '), ('SÃO PAULO ', '6 -'), (' BADY BASSITT ', '1 - '), ('ITARARÉ ', '1 - '), ('SALTO ', '3 -'), (' BARRA DO TURVO ', '1 - '), ('ITATIBA ', '1 1 '), ('SALTO DE PIRAPORA ', '2 -'), (' BARRETOS ', '4 - '), ('ITATINGA ', '1 - '), ('SANTA BRANCA ', '2 1'), (' BARUERI ', '42 2 '), ('ITÚ ', '2 - '), ('SANTA CRUZ DO RIO PARDO ', '1 -'), (' BATATAIS ', '1 - '), ('ITUPEVA ', '1 - '), ('SANTA ISABEL ', '1 -'), (' BAURU ', '10 1 '), ('JABOTICABAL ', '5 2 '), ('SANTANA DE PARNAÍBA ', '31 -'), (' BEBEDOURO ', '2 - '), ('JACAREÍ ', '1 - '), ('SANTO ANDRÉ ', '130 3'), (' BIRIGUI ', '2 - '), ('JACI ', '1 - '), ('SANTOS ', '130 4'), (' BOITUVA ', '3 - '), ('JAGUARIÚNA ', '1 - '), ('SÃO BERNARDO DO CAMPO ', '164 7'), (' BOTUCATU ', '15 1 '), ('JALES ', '1 - '), ('SÃO CAETANO DO SUL ', '59 1'), (' BRAGANÇA PAULISTA ', '16 3 '), ('JANDIRA ', '3 - '), ('SÃO CARLOS ', '2 -'), (' BRODOWSKI ', '2 - '), ('JAÚ ', '1 - '), ('SÃO JOÃO DA BOA VISTA ', '1 -'), (' CAÇAPAVA ', '3 - '), ('JOANÓPOLIS ', '1 - '), ('SÃO JOSÉ DO RIO PARDO ', '1 -'), (' CACHOEIRA PAULISTA ', '1 - '), ('JOSÉ BONIFACIO ', '2 - '), ('SÃO JOSÉ DO RIO PRETO ', '41 1'), (' CAIEIRAS ', '31 4 '), ('JUNDIAÍ ', '11 1 '), ('SÃO JOSÉ DOS CAMPOS ', '81 1'), (' CAJAMAR ', '3 - '), ('LARANJAL PAULISTA ', '2 1 '), ('SÃO MANUEL ', '3 1'), (' CAMPINAS ', '83 5 '), ('LENÇÓIS PAULISTA ', '2 - '), ('SÃO PAULO ', '5471 384'), (' CARAGUATATUBA ', '2 1 '), ('LIMEIRA ', '2 - '), ('SÃO PEDRO ', '1 -'), (' CARAPICUÍBA ', '25 2 '), ('LOUVEIRA ', '1 - '), ('SÃO ROQUE ', '3 -'), (' CATANDUVA ', '1 1 '), ('MAIRIPORÃ ', '7 2 '), ('SÃO SEBASTIÃO ', '4 1'), (' CEDRAL ', '1 - '), ('MARÍLIA ', '2 - '), ('SÃO VICENTE ', '13 -'), (' COTIA ', '46 3 '), ('MATÃO ', '2 - '), ('SERTÃOZINHO ', '2 -'), (' CRAVINHOS ', '2 1 '), ('MAUÁ ', '38 - '), ('SOROCABA ', '17 2'), (' DIADEMA ', '55 1 '), ('MIRASSOL ', '4 - '), ('SUMARÉ ', '2 -'), (' DRACENA ', '1 1 '), ('MOCOCA ', '2 1 '), ('SUZANO ', '24 1'), (' ELDORADO ', '1 - '), ('MOGI DAS CRUZES ', '37 1 '), ('TABOÃO DA SERRA ', '67 5'), (' EMBU DAS ARTES ', '27 1 '), ('MOGI GUAÇU ', '4 1 '), ('TANABI ', '1 -'), (' EMBU', '-'), ('GUAÇU ', '2 - '), ('MONTE ALTO ', '1 - '), ('TATUÍ ', '2 -'), (' FERRAZ DE VASCONCELOS ', '28 - '), ('NOVA ODESSA ', '1 1 '), ('TAUBATÉ ', '5 -'), (' FRANCA ', '2 - '), ('OLÍMPIA ', '2 - '), ('TERRA ROXA ', '1 -'), (' FRANCISCO MORATO ', '9 1 '), ('ORLÂNDIA ', '2 - '), ('VALINHOS ', '4 -'), (' FRANCO DA ROCHA ', '17 1 '), ('OSASCO ', '107 7 '), ('VARGEM GRANDE PAULISTA ', '5 3'), (' GUARARAPES ', '3 - '), ('PARIQUERA', '-'), ('AÇU ', '1 - '), ('VINHEDO ', '7 -'), (' GUARAREMA ', '2 - '), ('PAULÍNIA ', '4 - '), ('VOTORANTIM ', '2 -'), (' GUARATINGUETÁ ', '1 - '), ('PENÁPOLIS ', '1 1 '), ('VOTUPORANGA ', '3 -'), (' GUARUJÁ ', '6 - '), ('PERUÍBE ', '3 - '), ('OUTRO ESTADO ', '45 1'), (' GUARULHOS ', '154 11 '), ('PINDAMONHANGABA ', '1 - '), ('OUTRO PAÍS ', '40 -'), (' HORTOLÂNDIA ', '2 - '), ('PINDORAMA ', '1 - '), ('IGNORADO ', '5 -'), (' IBIÚNA ', '1 - '), ('PIRACICABA ', '12 -')]\n"
     ]
    },
    {
     "name": "stderr",
     "output_type": "stream",
     "text": [
      "Got stderr: abr 12, 2020 1:30:48 PM org.apache.pdfbox.pdmodel.font.PDCIDFontType2 <init>\n",
      "INFO: OpenType Layout tables used in font ABCDEE+Calibri are not implemented in PDFBox and will be ignored\n",
      "abr 12, 2020 1:30:48 PM org.apache.pdfbox.pdmodel.font.PDCIDFontType2 <init>\n",
      "INFO: OpenType Layout tables used in font ABCDEE+Calibri,Italic are not implemented in PDFBox and will be ignored\n",
      "abr 12, 2020 1:30:48 PM org.apache.pdfbox.pdmodel.font.PDCIDFontType2 <init>\n",
      "INFO: OpenType Layout tables used in font ABCDEE+Calibri are not implemented in PDFBox and will be ignored\n",
      "abr 12, 2020 1:30:48 PM org.apache.pdfbox.pdmodel.font.PDCIDFontType2 <init>\n",
      "INFO: OpenType Layout tables used in font ABCDEE+Calibri,Italic are not implemented in PDFBox and will be ignored\n",
      "abr 12, 2020 1:30:50 PM org.apache.pdfbox.pdmodel.font.PDCIDFontType2 <init>\n",
      "INFO: OpenType Layout tables used in font ABCDEE+Calibri are not implemented in PDFBox and will be ignored\n",
      "abr 12, 2020 1:30:50 PM org.apache.pdfbox.pdmodel.font.PDCIDFontType2 <init>\n",
      "INFO: OpenType Layout tables used in font ABCDEE+Calibri,Italic are not implemented in PDFBox and will be ignored\n",
      "\n"
     ]
    },
    {
     "name": "stdout",
     "output_type": "stream",
     "text": [
      "[(' ADAMANTINA ', '1 - '), ('IRACEMÁPOLIS ', '1 - '), ('PROMISSÃO ', '1 -'), (' ÁGUAS DE LINDÓIA ', '1 - '), ('ITANHAÉM ', '2 - '), ('RIBEIRÃO PIRES ', '4 -'), (' AGUDOS ', '1 - '), ('ITAPECERICA DA SERRA ', '6 1 '), ('RIBEIRÃO PRETO ', '15 1'), (' AMERICANA ', '2 - '), ('ITAPEVI ', '6 - '), ('RIO CLARO ', '1 -'), (' ARAÇATUBA ', '2 - '), ('ITAQUAQUECETUBA ', '9 - '), ('SALTO DE PIRAPORA ', '1 -'), (' ARARAQUARA ', '2 - '), ('ITARARÉ ', '1 - '), ('SANTA ISABEL ', '1 -'), (' ARUJÁ ', '4 1 '), ('ITU ', '1 - '), ('SANTANA DE PARNAÍBA ', '22 -'), (' ASSIS ', '1 - '), ('ITUPEVA ', '1 - '), ('SANTO ANDRÉ ', '70 2'), (' ATIBAIA ', '2 - '), ('JABOTICABAL ', '3 1 '), ('SANTOS ', '55 -'), (' BARUERI ', '28 1 '), ('JAGUARIUNA ', '1 - '), ('SÃO BERNARDO DO CAMPO ', '70 4'), (' BAURU ', '2 - '), ('JANDIRA ', '2 - '), ('SÃO CAETANO DO SUL ', '36 1'), (' BRODOWSKI ', '1 - '), ('JAÚ ', '1 - '), ('SÃO JOSÉ DO RIO PARDO ', '1 -'), (' CACHOEIRA PAULISTA ', '1 - '), ('JUNDIAÍ ', '6 - '), ('SÃO JOSÉ DO RIO PRETO ', '7 -'), (' CAIEIRAS ', '19 1 '), ('LENÇÓIS PAULISTA ', '1 - '), ('SÃO JOSÉ DOS CAMPOS ', '20 -'), (' CAJAMAR ', '1 - '), ('LIMEIRA ', '2 - '), ('SÃO PAULO ', '3202 186'), (' CAMPINAS ', '24 1 '), ('LOUVEIRA ', '1 - '), ('SÃO SEBASTIAO ', '3 1'), (' CARAPICUÍBA ', '11 1 '), ('MAIRIPORÃ ', '3 - '), ('SÃO VICENTE ', '4 -'), (' COTIA ', '27 2 '), ('MARÍLIA ', '1 - '), ('SOROCABA ', '8 2'), (' CRAVINHOS ', '1 1 '), ('MATÃO ', '2 - '), ('SUZANO ', '6 1'), (' DIADEMA ', '20 1 '), ('MAUÁ ', '10 - '), ('TABOÃO DA SERRA ', '34 1'), (' DRACENA ', '1 - '), ('MOGI DAS CRUZES ', '16 1 '), ('TATUÍ ', '1 -'), (' EMBU DAS ARTES ', '18 1 '), ('MOGI GUAÇU ', '1 - '), ('TAUBATÉ ', '1 -'), (' FERRAZ DE VASCONCELOS ', '14 - '), ('OSASCO ', '57 3 '), ('VALINHOS ', '3 -'), (' FRANCA ', '2 - '), ('PAULÍNIA ', '1 - '), ('VARGEM GRANDE PAULISTA ', '4 1'), (' FRANCISCO MORATO ', '7 - '), ('PENAPOLIS ', '1 - '), ('VINHEDO ', '1 -'), (' FRANCO DA ROCHA ', '6 1 '), ('PIRACICABA ', '5 - '), ('VOTORANTIM ', '2 -'), (' GUARUJÁ ', '3 - '), ('PIRAJUI ', '1 - '), ('VOTUPORANGA ', '1 -'), (' GUARULHOS ', '52 2 '), ('POÁ ', '3 - '), ('OUTRO ESTADO ', '28 -'), (' HORTOLÂNDIA ', '1 - '), ('PORTO FELIZ ', '1 - '), ('OUTRO PAÍS ', '35 -'), (' INDAIATUBA ', '2 - '), ('PRAIA GRANDE ', '2 - '), ('IGNORADO ', '6 -')]\n"
     ]
    },
    {
     "name": "stderr",
     "output_type": "stream",
     "text": [
      "Got stderr: abr 12, 2020 1:30:51 PM org.apache.pdfbox.pdmodel.font.PDCIDFontType2 <init>\n",
      "INFO: OpenType Layout tables used in font ABCDEE+Calibri,Italic are not implemented in PDFBox and will be ignored\n",
      "abr 12, 2020 1:30:51 PM org.apache.pdfbox.pdmodel.font.PDCIDFontType2 <init>\n",
      "INFO: OpenType Layout tables used in font ABCDEE+Calibri are not implemented in PDFBox and will be ignored\n",
      "abr 12, 2020 1:30:52 PM org.apache.pdfbox.pdmodel.font.PDCIDFontType2 <init>\n",
      "INFO: OpenType Layout tables used in font ABCDEE+Calibri,Italic are not implemented in PDFBox and will be ignored\n",
      "abr 12, 2020 1:30:52 PM org.apache.pdfbox.pdmodel.font.PDCIDFontType2 <init>\n",
      "INFO: OpenType Layout tables used in font ABCDEE+Calibri are not implemented in PDFBox and will be ignored\n",
      "abr 12, 2020 1:30:53 PM org.apache.pdfbox.pdmodel.font.PDCIDFontType2 <init>\n",
      "INFO: OpenType Layout tables used in font ABCDEE+Calibri,Italic are not implemented in PDFBox and will be ignored\n",
      "abr 12, 2020 1:30:53 PM org.apache.pdfbox.pdmodel.font.PDCIDFontType2 <init>\n",
      "INFO: OpenType Layout tables used in font ABCDEE+Calibri are not implemented in PDFBox and will be ignored\n",
      "\n"
     ]
    },
    {
     "name": "stdout",
     "output_type": "stream",
     "text": [
      "[(' ARUJÁ ', '1 - '), ('JUNDIAÍ ', '3 - '), ('SÃO CAETANO DO SUL ', '27 -'), (' BARUERI ', '6 - '), ('LOUVEIRA ', '1 - '), ('SÃO JOSE DO RIO PRETO ', '3 -'), (' BRODOWSKI ', '1 - '), ('MAIRIPORÃ ', '2 - '), ('SÃO JOSE DOS CAMPOS ', '5 -'), (' CAIEIRAS ', '3 - '), ('MAUÁ ', '2 - '), ('SÃO PAULO ', '1233 103'), (' CAJAMAR ', '1 - '), ('MOGI DAS CRUZES ', '9 - '), ('SÃO PEDRO ', '1 -'), (' CAMPINAS ', '11 - '), ('OSASCO ', '14 1 '), ('SÃO SEBASTIAO ', '2 -'), (' CARAPICUÍBA ', '3 - '), ('PAULÍNIA ', '1 - '), ('SOROCABA ', '3 1'), (' COTIA ', '6 - '), ('PENÁPOLIS ', '1 - '), ('SUZANO ', '1 -'), (' DIADEMA ', '2 - '), ('PIRACICABA ', '3 - '), ('TABOÃO DA SERRA ', '3 1'), (' EMBU DAS ARTES ', '3 1 '), ('POÁ ', '1 - '), ('TATUÍ ', '1 -'), (' FERRAZ DE VASCONCELOS ', '3 - '), ('PORTO FELIZ ', '1 - '), ('TAUBATÉ ', '1 -'), (' GUARULHOS ', '14 2 '), ('RIBEIRÃO PIRES ', '1 - '), ('UMUARAMA ', '1 -'), (' HORTOLÂNDIA ', '1 - '), ('RIBEIRÃO PRETO ', '5 1 '), ('VALINHOS ', '1 -'), (' IRACEMÁPOLIS ', '1 - '), ('RIO CLARO ', '1 - '), ('VARGEM GRANDE PAULISTA ', '2 1'), (' ITAPEVI ', '1 - '), ('SANTANA DE PARNAÍBA ', '7 - '), ('OUTRO ESTADO ', '15 -'), (' ITUPEVA ', '1 - '), ('SANTO ANDRÉ ', '40 - '), ('OUTRO PAÍS ', '28 -'), (' JAGUARIÚNA ', '1 - '), ('SANTOS ', '1 - '), ('IGNORADO ', '4 1'), (' JANDIRA ', '1 - '), ('SÃO BERNARDO DO CAMPO ', '33 1 ')]\n"
     ]
    },
    {
     "name": "stderr",
     "output_type": "stream",
     "text": [
      "Got stderr: abr 12, 2020 1:30:54 PM org.apache.pdfbox.pdmodel.font.PDCIDFontType2 <init>\n",
      "INFO: OpenType Layout tables used in font ABCDEE+Calibri are not implemented in PDFBox and will be ignored\n",
      "abr 12, 2020 1:30:54 PM org.apache.pdfbox.pdmodel.font.PDCIDFontType2 <init>\n",
      "INFO: OpenType Layout tables used in font ABCDEE+Calibri,Italic are not implemented in PDFBox and will be ignored\n",
      "abr 12, 2020 1:30:55 PM org.apache.pdfbox.pdmodel.font.PDCIDFontType2 <init>\n",
      "INFO: OpenType Layout tables used in font ABCDEE+Calibri are not implemented in PDFBox and will be ignored\n",
      "abr 12, 2020 1:30:55 PM org.apache.pdfbox.pdmodel.font.PDCIDFontType2 <init>\n",
      "INFO: OpenType Layout tables used in font ABCDEE+Calibri,Italic are not implemented in PDFBox and will be ignored\n",
      "abr 12, 2020 1:30:56 PM org.apache.pdfbox.pdmodel.font.PDCIDFontType2 <init>\n",
      "INFO: OpenType Layout tables used in font ABCDEE+Calibri are not implemented in PDFBox and will be ignored\n",
      "abr 12, 2020 1:30:56 PM org.apache.pdfbox.pdmodel.font.PDCIDFontType2 <init>\n",
      "INFO: OpenType Layout tables used in font ABCDEE+Calibri,Italic are not implemented in PDFBox and will be ignored\n",
      "\n"
     ]
    },
    {
     "name": "stdout",
     "output_type": "stream",
     "text": [
      "[(' AMERICANA ', '2 - '), ('JAGUARIÚNA ', '1 - '), ('SANTOS ', '14 -'), (' ARACATUBA ', '1 - '), ('JANDIRA ', '2 - '), ('SÃO BERNARDO DO CAMPO ', '44 1'), (' ARUJÁ ', '2 - '), ('JUNDIAÍ ', '3 - '), ('SÃO CAETANO DO SUL ', '30 1'), (' BARUERI ', '20 - '), ('LENÇÓIS PAULISTA ', '1 - '), ('SÃO JOSÉ DO RIO PARDO ', '1 -'), (' BAURU ', '1 - '), ('LOUVEIRA ', '1 - '), ('SÃO JOSÉ DO RIO PRETO ', '6 -'), (' BRODOWSKI ', '1 - '), ('MAIRIPORÃ ', '2 - '), ('SÃO JOSÉ DOS CAMPOS ', '9 -'), (' CACHOEIRA PAULISTA ', '1 - '), ('MATÃO ', '1 - '), ('SÃO PAULO ', '1885 121'), (' CAIEIRAS ', '9 1 '), ('MAUÁ ', '3 - '), ('SÃO PEDRO ', '1 -'), (' CAJAMAR ', '1 - '), ('MOGI DAS CRUZES ', '10 - '), ('SÃO SEBASTIÃO ', '2 -'), (' CAMPINAS ', '15 1 '), ('MOGI GUAÇU ', '1 - '), ('SÃO VICENTE ', '1 -'), (' CARAPICUÍBA ', '6 - '), ('NOVA ODESSA ', '1 - '), ('SOROCABA ', '3 1'), (' COTIA ', '12 - '), ('OSASCO ', '33 2 '), ('SUZANO ', '1 -'), (' DIADEMA ', '5 - '), ('PAULINIA ', '1 - '), ('TABOÃO DA SERRA ', '12 1'), (' EMBU DAS ARTES ', '7 1 '), ('PENÁPOLIS ', '1 - '), ('TATUÍ ', '1 -'), (' FERRAZ DE VASCONCELOS ', '5 - '), ('PIRACICABA ', '5 - '), ('TAUBATÉ ', '1 -'), (' FRANCO DA ROCHA ', '3 - '), ('PIRAJUÍ ', '1 - '), ('VALINHOS ', '1 -'), (' GUARUJÁ ', '1 - '), ('POÁ ', '1 - '), ('VARGEM GRANDE PAULISTA ', '2 1'), (' GUARULHOS ', '21 2 '), ('RIBEIRÃO PIRES ', '1 - '), ('VINHEDO ', '1 -'), (' HORTOLÂNDIA ', '1 - '), ('RIBEIRÃO PRETO ', '6 1 '), ('VOTORANTIM ', '1 -'), (' IRACEMÁPOLIS ', '1 - '), ('RIO CLARO ', '1 - '), ('VOTUPORANGA ', '1 -'), (' ITAPECERICA DA SERRA ', '3 - '), ('SALTO DE PIRAPORA ', '1 - '), ('OUTRO ESTADO ', '18 -'), (' ITAPEVI ', '6 - '), ('SANTA ISABEL ', '1 - '), ('OUTRO PAÍS ', '31 -'), (' ITAQUAQUECETUBA ', '1 - '), ('SANTANA DE PARNAÍBA ', '17 - '), ('IGNORADO ', '4 1'), (' ITUPEVA ', '1 - '), ('SANTO ANDRÉ ', '48 1 ')]\n"
     ]
    },
    {
     "name": "stderr",
     "output_type": "stream",
     "text": [
      "Got stderr: abr 12, 2020 1:30:57 PM org.apache.pdfbox.pdmodel.font.PDCIDFontType2 <init>\n",
      "INFO: OpenType Layout tables used in font ABCDEE+Calibri are not implemented in PDFBox and will be ignored\n",
      "abr 12, 2020 1:30:57 PM org.apache.pdfbox.pdmodel.font.PDCIDFontType2 <init>\n",
      "INFO: OpenType Layout tables used in font ABCDEE+Calibri,Italic are not implemented in PDFBox and will be ignored\n",
      "abr 12, 2020 1:30:57 PM org.apache.pdfbox.pdmodel.font.PDCIDFontType2 <init>\n",
      "INFO: OpenType Layout tables used in font ABCDEE+Calibri,Bold are not implemented in PDFBox and will be ignored\n",
      "abr 12, 2020 1:30:58 PM org.apache.pdfbox.pdmodel.font.PDCIDFontType2 <init>\n",
      "INFO: OpenType Layout tables used in font ABCDEE+Calibri are not implemented in PDFBox and will be ignored\n",
      "abr 12, 2020 1:30:58 PM org.apache.pdfbox.pdmodel.font.PDCIDFontType2 <init>\n",
      "INFO: OpenType Layout tables used in font ABCDEE+Calibri,Italic are not implemented in PDFBox and will be ignored\n",
      "abr 12, 2020 1:30:59 PM org.apache.pdfbox.pdmodel.font.PDCIDFontType2 <init>\n",
      "INFO: OpenType Layout tables used in font ABCDEE+Calibri,Bold are not implemented in PDFBox and will be ignored\n",
      "abr 12, 2020 1:30:59 PM org.apache.pdfbox.pdmodel.font.PDCIDFontType2 <init>\n",
      "INFO: OpenType Layout tables used in font ABCDEE+Calibri are not implemented in PDFBox and will be ignored\n",
      "abr 12, 2020 1:30:59 PM org.apache.pdfbox.pdmodel.font.PDCIDFontType2 <init>\n",
      "INFO: OpenType Layout tables used in font ABCDEE+Calibri,Italic are not implemented in PDFBox and will be ignored\n",
      "abr 12, 2020 1:30:59 PM org.apache.pdfbox.pdmodel.font.PDCIDFontType2 <init>\n",
      "INFO: OpenType Layout tables used in font ABCDEE+Calibri,Bold are not implemented in PDFBox and will be ignored\n",
      "\n"
     ]
    },
    {
     "name": "stdout",
     "output_type": "stream",
     "text": [
      "[(' ÁGUAS DE LINDÓIA ', '1 - '), ('INDAIATUBA ', '3 - '), ('PROMISSÃO ', '1 -'), (' AGUDOS ', '1 - '), ('IRACEMÁPOLIS ', '1 - '), ('RIBEIRÃO PIRES ', '9 -'), (' AMERICANA ', '3 2 '), ('ITANHAÉM ', '2 - '), ('RIBEIRÃO PRETO ', '29 2'), (' ARAÇATUBA ', '8 - '), ('ITAPECERICA DA SERRA ', '12 1 '), ('RIO CLARO ', '3 -'), (' ARARAQUARA ', '5 - '), ('ITAPETININGA ', '1 - '), ('RIO GRANDE DA SERRA ', '1 -'), (' ARARAS ', '2 - '), ('ITAPEVI ', '12 1 '), ('SALTO ', '1 -'), (' ARUJÁ ', '6 1 '), ('ITAPIRA ', '1 - '), ('SALTO DE PIRAPORA ', '2 -'), (' ASSIS ', '2 - '), ('ITAQUAQUECETUBA ', '15 - '), ('SANTA BRANCA ', '2 1'), (' ATIBAIA ', '9 - '), ('ITARARÉ ', '1 - '), ('SANTA CRUZ DO RIO PARDO ', '2 -'), (' BARRETOS ', '1 - '), ('ITATIBA ', '1 1 '), ('SANTA ISABEL ', '2 -'), (' BARUERI ', '34 2 '), ('ITU ', '1 - '), ('SANTANA DE PARNAÍBA ', '27 -'), (' BAURU ', '7 2 '), ('ITUPEVA ', '1 - '), ('SANTO ANDRÉ ', '98 3'), (' BEBEDOURO ', '1 - '), ('JABOTICABAL ', '4 1 '), ('SANTOS ', '87 2'), (' BIRIGUI ', '2 - '), ('JAGUARIÚNA ', '1 - '), ('SÃO BERNARDO DO CAMPO ', '129 6'), (' BOITUVA ', '2 - '), ('JANDIRA ', '3 - '), ('SÃO CAETANO DO SUL ', '50 1'), (' BOTUCATU ', '8 - '), ('JAÚ ', '1 - '), ('SÃO CARLOS ', '1 -'), (' BRAGANÇA PAULISTA ', '16 2 '), ('JOSÉ BONIFÁCIO ', '2 - '), ('SÃO JOSÉ DO RIO PARDO ', '1 -'), (' BRODOWSKI ', '1 - '), ('JUNDIAÍ ', '7 - '), ('SÃO JOSÉ DO RIO PRETO ', '28 1'), (' CACHOEIRA PAULISTA ', '1 - '), ('LENÇÓIS PAULISTA ', '2 - '), ('SÃO JOSÉ DOS CAMPOS ', '61 -'), (' CAIEIRAS ', '21 4 '), ('LIMEIRA ', '2 - '), ('SÃO MANUEL ', '1 -'), (' CAJAMAR ', '3 - '), ('LOUVEIRA ', '1 - '), ('SÃO PAULO ', '4258 296'), (' CAMPINAS ', '50 4 '), ('MAIRIPORÃ ', '7 2 '), ('SÃO PEDRO ', '1 -'), (' CARAGUATATUBA ', '2 1 '), ('MARÍLIA ', '2 - '), ('SÃO ROQUE ', '1 -'), (' CARAPICUÍBA ', '19 1 '), ('MATÃO ', '2 - '), ('SÃO SEBASTIAO ', '3 1'), (' CATANDUVA ', '1 - '), ('MAUÁ ', '28 - '), ('SÃO VICENTE ', '10 -'), (' CEDRAL ', '1 - '), ('MIRASSOL ', '2 - '), ('SOROCABA ', '11 2'), (' COTIA ', '35 3 '), ('MOGI GUAÇU ', '1 - '), ('SUMARÉ ', '2 -'), (' CRAVINHOS ', '2 1 '), ('MOGI DAS CRUZES ', '27 1 '), ('SUZANO ', '13 1'), (' DIADEMA ', '35 1 '), ('MONTE ALTO ', '1 - '), ('TABOÃO DA SERRA ', '50 3'), (' DRACENA ', '1 1 '), ('NOVA ODESSA ', '1 1 '), ('TATUÍ ', '2 -'), (' EMBU DAS ARTES ', '22 1 '), ('ORLÂNDIA ', '2 - '), ('TAUBATÉ ', '4 -'), (' EMBU GUAÇU ', '1 - '), ('OSASCO ', '84 4 '), ('TERRA ROXA ', '1 -'), (' FERRAZ DE VASCONCELOS ', '19 - '), ('PARIQUERA AÇU ', '1 - '), ('VALINHOS ', '4 -'), (' FRANCA ', '1 - '), ('PAULÍNIA ', '2 - '), ('VARGEM GRANDE PAULISTA ', '5 2'), (' FRANCISCO MORATO ', '9 1 '), ('PENÁPOLIS ', '1 1 '), ('VINHEDO ', '1 -'), (' FRANCO DA ROCHA ', '9 1 '), ('PERUÍBE ', '2 - '), ('VOTORANTIM ', '2 -'), (' GUARARAPES ', '2 - '), ('PINDAMONHANGABA ', '1 - '), ('VOTUPORANGA ', '3 -'), (' GUARUJÁ ', '6 - '), ('PIRACICABA ', '10 - '), ('OUTRO ESTADO ', '36 -'), (' GUARULHOS ', '74 7 '), ('PIRAJUÍ ', '1 - '), ('OUTRO PAÍS ', '35 -'), (' HORTOLÂNDIA ', '2 - '), ('POÁ ', '6 1 '), ('IGNORADO ', '6 -'), (' IBIÚNA ', '1 - '), ('PRAIA GRANDE ', '11 - '), (' ILHA COMPRIDA ', '5 - '), ('PRESIDENTE VENCESLAU ', '2 1 ')]\n",
      "[(' ÁGUAS DE LINDÓIA ', '1 1 '), ('GUARULHOS ', '191 16 '), ('PIRACICABA ', '12 -'), (' ÁGUAS DE SÃO PEDRO ', '1 - '), ('HORTOLÂNDIA ', '2 - '), ('PIRAJUÍ ', '1 -'), (' AGUDOS ', '2 1 '), ('IBIRÁ ', '1 - '), ('POÁ ', '9 1'), (' AMERICANA ', '3 2 '), ('IBIÚNA ', '1 - '), ('PORTO FERREIRA ', '2 1'), (' AMÉRICO BRASILIENSE ', '1 - '), ('ILHA COMPRIDA ', '9 - '), ('PRAIA GRANDE ', '16 2'), (' AMPARO ', '1 - '), ('ILHABELA ', '1 - '), ('PRESIDENTE PRUDENTE ', '4 2'), (' ARAÇARIGUAMA ', '1 - '), ('INDAIATUBA ', '4 - '), ('PRESIDENTE VENCESLAU ', '4 2'), (' ARAÇATUBA ', '14 - '), ('IRACEMÁPOLIS ', '1 - '), ('PROMISSÃO ', '1 -'), (' ARAÇOIABA DA SERRA ', '1 - '), ('ITANHAÉM ', '2 - '), ('RIBEIRÃO PIRES ', '16 -'), (' ARARAQUARA ', '10 1 '), ('ITAPECERICA DA SERRA ', '27 1 '), ('RIBEIRÃO PRETO ', '36 4'), (' ARARAS ', '3 - '), ('ITAPETININGA ', '3 1 '), ('RIO CLARO ', '4 1'), (' ARTUR NOGUEIRA ', '1 - '), ('ITAPEVA ', '1 - '), ('RIO GRANDE DA SERRA ', '5 -'), (' ARUJÁ ', '11 1 '), ('ITAPEVI ', '17 4 '), ('SALTO ', '3 -'), (' ASSIS ', '4 1 '), ('ITAPIRA ', '1 - '), ('SALTO DE PIRAPORA ', '2 -'), (' ATIBAIA ', '13 - '), ('ITAQUAQUECETUBA ', '25 - '), ('SANTA BÁRBARA', ' '), ('OESTE ', '1 -'), (' AVARÉ ', '3 - '), ('ITARARÉ ', '1 - '), ('SANTA BRANCA ', '2 1'), (' BADY BASSITT ', '2 - '), ('ITATIBA ', '1 1 '), ('SANTA CRUZ DO RIO PARDO ', '1 -'), (' BARRA DO TURVO ', '1 - '), ('ITATINGA ', '1 - '), ('SANTA ISABEL ', '1 -'), (' BARRETOS ', '4 - '), ('ITU ', '2 - '), ('SANTA LÚCIA ', '1 -'), (' BARUERI ', '43 2 '), ('ITUPEVA ', '1 - '), ('SANTANA DE PARNAÍBA ', '33 -'), (' BATATAIS ', '1 - '), ('JABOTICABAL ', '5 2 '), ('SANTO ANDRÉ ', '142 3'), (' BAURU ', '10 1 '), ('JACAREÍ ', '1 - '), ('SANTOS ', '146 6'), (' BEBEDOURO ', '1 - '), ('JACI ', '1 - '), ('SÃO BERNARDO DO CAMPO ', '172 9'), (' BIRIGUI ', '2 - '), ('JAGUARIÚNA ', '1 - '), ('SÃO CAETANO DO SUL ', '61 2'), (' BOITUVA ', '4 - '), ('JALES ', '1 - '), ('SÃO CARLOS ', '5 2'), (' BOTUCATU ', '15 1 '), ('JANDIRA ', '3 - '), ('SÃO JOÃO DA BOA VISTA ', '1 -'), (' BRAGANÇA PAULISTA ', '26 4 '), ('JAÚ ', '1 - '), ('SÃO JOSÉ DO RIO PARDO ', '1 -'), (' BRODOWSKI ', '2 - '), ('JOANÓPOLIS ', '1 - '), ('SÃO JOSÉ DO RIO PRETO ', '40 1'), (' CAÇAPAVA ', '3 - '), ('JOSÉ BONIFÁCIO ', '2 - '), ('SÃO JOSÉ DOS CAMPOS ', '85 1'), (' CACHOEIRA PAULISTA ', '1 - '), ('JUNDIAÍ ', '13 1 '), ('SÃO MANUEL ', '3 1'), (' CAIABU ', '1 1 '), ('LARANJAL PAULISTA ', '2 1 '), ('SÃO MIGUEL ARCANJO ', '1 -'), (' CAIEIRAS ', '33 4 '), ('LENÇÓIS PAULISTA ', '3 - '), ('SÃO PAULO ', '6131 422'), (' CAJAMAR ', '5 1 '), ('LIMEIRA ', '4 - '), ('SÃO PEDRO ', '1 -'), (' CAMPINAS ', '100 5 '), ('LOUVEIRA ', '1 - '), ('SÃO ROQUE ', '3 -'), (' CARAGUATATUBA ', '2 1 '), ('MAIRIPORÃ ', '7 2 '), ('SÃO SEBASTIÃO ', '4 1'), (' CARAPICUÍBA ', '31 2 '), ('MARÍLIA ', '4 - '), ('SÃO VICENTE ', '14 -'), (' CATANDUVA ', '3 2 '), ('MATÃO ', '2 - '), ('SERTÃOZINHO ', '2 -'), (' CEDRAL ', '1 - '), ('MAUÁ ', '43 - '), ('SOROCABA ', '20 2'), (' COTIA ', '59 4 '), ('MIRASSOL ', '4 - '), ('SUMARÉ ', '2 -'), (' CRAVINHOS ', '2 1 '), ('MOCOCA ', '2 1 '), ('SUZANO ', '32 3'), (' CUBATÃO ', '2 - '), ('MOGI DAS CRUZES ', '56 2 '), ('TABOÃO DA SERRA ', '71 5'), (' DIADEMA ', '60 1 '), ('MOGI GUAÇÚ ', '6 1 '), ('TANABI ', '1 -'), (' DRACENA ', '1 1 '), ('MONTE ALTO ', '3 - '), ('TATUÍ ', '4 -'), (' ELDORADO ', '1 - '), ('NOVA ODESSA ', '1 1 '), ('TAUBATÉ ', '6 -'), (' EMBU DAS ARTES ', '34 2 '), ('OLÍMPIA ', '2 - '), ('TERRA ROXA ', '1 -'), (' EMBU', '-'), ('GUAÇU ', '4 - '), ('ORLÂNDIA ', '2 - '), ('TUPÃ ', '1 -'), (' ESTIVA GERBI ', '1 - '), ('OSASCO ', '127 8 '), ('VALINHOS ', '4 -'), (' FERRAZ DE VASCONCELOS ', '34 - '), ('OURINHOS ', '1 - '), ('VARGEM GRANDE PAULISTA ', '5 3'), (' FRANCA ', '2 - '), ('PARIQUERA', '-'), ('AÇU ', '2 - '), ('VINHEDO ', '9 -'), (' FRANCISCO MORATO ', '13 1 '), ('PAULÍNIA ', '5 - '), ('VOTORANTIM ', '2 -'), (' FRANCO DA ROCHA ', '19 1 '), ('PEDRA BELA ', '1 - '), ('VOTUPORANGA ', '5 -'), (' GUARARAPES ', '3 - '), ('PENÁPOLIS ', '1 1 '), ('OUTRO ESTADO ', '34 -'), (' GUARAREMA ', '1 - '), ('PERUÍBE ', '3 - '), ('OUTRO PAÍS ', '39 -'), (' GUARATINGUETÁ ', '1 - '), ('PINDAMONHANGABA ', '2 - '), (' GUARUJÁ ', '7 - '), ('PINDORAMA ', '1 - ')]\n"
     ]
    },
    {
     "name": "stderr",
     "output_type": "stream",
     "text": [
      "Got stderr: abr 12, 2020 1:31:04 PM org.apache.pdfbox.pdmodel.font.PDCIDFontType2 <init>\n",
      "INFO: OpenType Layout tables used in font ABCDEE+Calibri,Italic are not implemented in PDFBox and will be ignored\n",
      "abr 12, 2020 1:31:04 PM org.apache.pdfbox.pdmodel.font.PDCIDFontType2 <init>\n",
      "INFO: OpenType Layout tables used in font ABCDEE+Calibri are not implemented in PDFBox and will be ignored\n",
      "abr 12, 2020 1:31:04 PM org.apache.pdfbox.pdmodel.font.PDCIDFontType2 <init>\n",
      "INFO: OpenType Layout tables used in font ABCDEE+Calibri,Italic are not implemented in PDFBox and will be ignored\n",
      "abr 12, 2020 1:31:05 PM org.apache.pdfbox.pdmodel.font.PDCIDFontType2 <init>\n",
      "INFO: OpenType Layout tables used in font ABCDEE+Calibri are not implemented in PDFBox and will be ignored\n",
      "abr 12, 2020 1:31:05 PM org.apache.pdfbox.pdmodel.font.PDCIDFontType2 <init>\n",
      "INFO: OpenType Layout tables used in font ABCDEE+Calibri,Italic are not implemented in PDFBox and will be ignored\n",
      "abr 12, 2020 1:31:05 PM org.apache.pdfbox.pdmodel.font.PDCIDFontType2 <init>\n",
      "INFO: OpenType Layout tables used in font ABCDEE+Calibri are not implemented in PDFBox and will be ignored\n",
      "\n"
     ]
    },
    {
     "name": "stdout",
     "output_type": "stream",
     "text": [
      "[(' BARUERI ', '1'), (' ', '- '), ('JUNDIAI ', '1 - '), ('SAO JOSE DO RIO PRETO ', '1 -'), (' CAIEIRAS ', '1'), (' ', '- '), ('MAUA ', '2 - '), ('SAO JOSE DOS CAMPOS ', '2 -'), (' CAMPINAS ', '4'), (' ', '- '), ('MOGI DAS CRUZES ', '4 - '), ('SAO PAULO ', '722 44'), (' CARAPICUIBA ', '2'), (' ', '- '), ('OSASCO ', '3 - '), ('SAO SEBASTIAO ', '2 -'), (' COTIA ', '6'), (' ', '- '), ('POA ', '1 - '), ('SUZANO ', '1 -'), (' EMBU DAS ARTES ', '1'), (' ', '- '), ('RIBEIRAO PIRES ', '1 - '), ('TABOAO DA SERRA ', '1 1'), (' FERRAZ DE VASCONCELOS ', '1'), (' ', '- '), ('RIO CLARO ', '1 - '), ('TAUBATE ', '1 -'), (' GUARULHOS ', '5'), (' ', '1 '), ('SANTANA DE PARNAIBA ', '4 - '), ('VALINHOS ', '1 -'), (' HORTOLANDIA ', '2'), (' ', '- '), ('SANTO ANDRE ', '17 - '), ('VARGEM GRANDE ', '0 1'), (' IRACEMAPOLIS ', '1'), (' ', '- '), ('SAO BERNARDO DO CAMPO ', '13 - '), (' ', '10 -'), (' JAGUARIUNA ', '1'), (' ', '- '), ('SAO CAETANO DO SUL ', '16 - '), ('IGNORADO OU EXTERIOR ', '33 1')]\n"
     ]
    },
    {
     "name": "stderr",
     "output_type": "stream",
     "text": [
      "Got stderr: abr 12, 2020 1:31:07 PM org.apache.pdfbox.pdmodel.font.PDCIDFontType2 <init>\n",
      "INFO: OpenType Layout tables used in font ABCDEE+Calibri are not implemented in PDFBox and will be ignored\n",
      "abr 12, 2020 1:31:07 PM org.apache.pdfbox.pdmodel.font.PDCIDFontType2 <init>\n",
      "INFO: OpenType Layout tables used in font ABCDEE+Calibri,Italic are not implemented in PDFBox and will be ignored\n",
      "abr 12, 2020 1:31:07 PM org.apache.pdfbox.pdmodel.font.PDCIDFontType2 <init>\n",
      "INFO: OpenType Layout tables used in font ABCDEE+Calibri are not implemented in PDFBox and will be ignored\n",
      "abr 12, 2020 1:31:07 PM org.apache.pdfbox.pdmodel.font.PDCIDFontType2 <init>\n",
      "INFO: OpenType Layout tables used in font ABCDEE+Calibri,Italic are not implemented in PDFBox and will be ignored\n",
      "abr 12, 2020 1:31:08 PM org.apache.pdfbox.pdmodel.font.PDCIDFontType2 <init>\n",
      "INFO: OpenType Layout tables used in font ABCDEE+Calibri are not implemented in PDFBox and will be ignored\n",
      "abr 12, 2020 1:31:08 PM org.apache.pdfbox.pdmodel.font.PDCIDFontType2 <init>\n",
      "INFO: OpenType Layout tables used in font ABCDEE+Calibri,Italic are not implemented in PDFBox and will be ignored\n",
      "\n"
     ]
    },
    {
     "name": "stdout",
     "output_type": "stream",
     "text": [
      "[(' AMERICANA ', '2 - '), ('JAGUARIÚNA ', '1 - '), ('SANTO ANDRÉ ', '51 2'), (' ARACATUBA ', '2 - '), ('JANDIRA ', '2 - '), ('SANTOS ', '23 -'), (' ARUJÁ ', '2 - '), ('JUNDIAÍ ', '5 - '), ('SÃO BERNARDO DO CAMPO ', '52 2'), (' BARUERI ', '21 - '), ('LENÇÓIS PAULISTA ', '1 - '), ('SÃO CAETANO DO SUL ', '32 1'), (' BAURU ', '2 - '), ('LIMEIRA ', '2 - '), ('SÃO JOSÉ DO RIO PARDO ', '1 -'), (' BRODOWSKI ', '1 - '), ('LOUVEIRA ', '1 - '), ('SÃO JOSÉ DO RIO PRETO ', '7 -'), (' CACHOEIRA PAULISTA ', '1 - '), ('MAIRIPORÃ ', '2 - '), ('SÃO JOSÉ DOS CAMPOS ', '12 -'), (' CAIEIRAS ', '11 1 '), ('MATÃO ', '1 - '), ('SÃO PAULO ', '2418 144'), (' CAJAMAR ', '1 - '), ('MAUÁ ', '3 - '), ('SÃO PEDRO ', '1 -'), (' CAMPINAS ', '22 1 '), ('MOGI DAS CRUZES ', '11 - '), ('SÃO SEBASTIAO ', '3 1'), (' CARAPICUÍBA ', '7 - '), ('MOGI GUAÇU ', '1 - '), ('SÃO VICENTE ', '2 -'), (' COTIA ', '21 2 '), ('NOVA ODESSA ', '1 - '), ('SOROCABA ', '3 1'), (' DIADEMA ', '8 - '), ('OSASCO ', '43 2 '), ('SUZANO ', '4 1'), (' EMBU DAS ARTES ', '8 1 '), ('PAULÍNIA ', '1 - '), ('TABOÃO DA SERRA ', '22 1'), (' FERRAZ DE VASCONCELOS ', '9 - '), ('PENÁPOLIS ', '1 - '), ('TATUÍ ', '1 -'), (' FRANCO DA ROCHA ', '4 - '), ('PIRACICABA ', '5 - '), ('TAUBATÉ ', '1 -'), (' GUARUJÁ ', '1 - '), ('PIRAJUÍ ', '1 - '), ('VALINHOS ', '1 -'), (' GUARULHOS ', '25 2 '), ('POÁ ', '1 - '), ('VARGEM GRANDE PAULISTA ', '2 1'), (' HORTOLÂNDIA ', '1 - '), ('PORTO FELIZ ', '1 - '), ('VINHEDO ', '1 -'), (' INDAIATUBA ', '2 - '), ('PRAIA GRANDE ', '1 - '), ('VOTORANTIM ', '1 -'), (' IRACEMÁPOLIS ', '1 - '), ('RIBEIRÃO PIRES ', '1 - '), ('VOTUPORANGA ', '1 -'), (' ITANHAÉM ', '2 - '), ('RIBEIRÃO PRETO ', '8 1 '), ('OUTRO ESTADO ', '37 -'), (' ITAPECERICA DA SERRA ', '4 - '), ('RIO CLARO ', '1 - '), ('OUTRO PAÍS ', '18 -'), (' ITAPEVI ', '6 - '), ('SALTO DE PIRAPORA ', '1 - '), ('IGNORADO ', '4 -'), (' ITAQUAQUECETUBA ', '3 - '), ('SANTA ISABEL ', '1 - '), (' ITUPEVA ', '1 - '), ('SANTANA DE PARNAÍBA ', '18 - ')]\n",
      "[(' ÁGUAS DE LINDÓIA ', '1 1 '), ('ILHA COMPRIDA ', '9 - '), ('POÁ ', '9 1'), (' ÁGUAS DE SÃO PEDRO ', '1 - '), ('ILHABELA ', '1 - '), ('PORTO FERREIRA ', '2 1'), (' AGUDOS ', '1 1 '), ('INDAIATUBA ', '3 - '), ('PRAIA GRANDE ', '14 1'), (' AMERICANA ', '3 2 '), ('IRACEMÁPOLIS ', '1 - '), ('PRESIDENTE PRUDENTE ', '3 2'), (' ARAÇATUBA ', '15 - '), ('ITANHAÉM ', '2 - '), ('PRESIDENTE VENCESLAU ', '4 2'), (' ARAÇOIABA DA SERRA ', '1 - '), ('ITAPECERICA DA SERRA ', '26 1 '), ('PROMISSÃO ', '1 -'), (' ARARAQUARA ', '7 1 '), ('ITAPETININGA ', '3 1 '), ('RIBEIRÃO PIRES ', '15 -'), (' ARARAS ', '3 - '), ('ITAPEVA ', '1 - '), ('RIBEIRÃO PRETO ', '36 4'), (' ARTUR NOGUEIRA ', '1 - '), ('ITAPEVI ', '17 4 '), ('RIO CLARO ', '3 1'), (' ARUJÁ ', '10 1 '), ('ITAPIRA ', '1 - '), ('RIO GRANDE DA SERRA ', '4 -'), (' ASSIS ', '4 1 '), ('ITAQUAQUECETUBA ', '24 - '), ('SALTO ', '3 -'), (' ATIBAIA ', '13 - '), ('ITARARÉ ', '1 - '), ('SALTO DE PIRAPORA ', '2 -'), (' AVARÉ ', '3 - '), ('ITATIBA ', '1 1 '), ('SANTA BÁRBARA', ' '), ('OESTE ', '1 -'), (' BADY BASSITT ', '1 - '), ('ITATINGA ', '1 - '), ('SANTA BRANCA ', '2 1'), (' BARRA DO TURVO ', '1 - '), ('ITU ', '2 - '), ('SANTA CRUZ DO RIO PARDO ', '2 -'), (' BARRETOS ', '4 - '), ('ITUPEVA ', '1 - '), ('SANTA ISABEL ', '1 -'), (' BARUERI ', '44 2 '), ('JABOTICABAL ', '5 2 '), ('SANTANA DE PARNAÍBA ', '32 -'), (' BATATAIS ', '1 - '), ('JACAREÍ ', '1 - '), ('SANTO ANDRÉ ', '139 3'), (' BAURU ', '11 1 '), ('JACI ', '1 - '), ('SANTOS ', '144 5'), (' BEBEDOURO ', '2 - '), ('JAGUARIÚNA ', '1 - '), ('SÃO BERNARDO DO CAMPO ', '174 9'), (' BIRIGUI ', '2 - '), ('JALES ', '1 - '), ('SÃO CAETANO DO SUL ', '62 1'), (' BOITUVA ', '4 - '), ('JANDIRA ', '3 - '), ('SÃO CARLOS ', '4 2'), (' BOTUCATU ', '15 1 '), ('JAÚ ', '1 - '), ('SÃO JOÃO DA BOA VISTA ', '1 -'), (' BRAGANÇA PAULISTA ', '26 4 '), ('JOANÓPOLIS ', '1 - '), ('SÃO JOSÉ DO RIO PARDO ', '1 -'), (' BRODOWSKI ', '2 - '), ('JOSÉ BONIFÁCIO ', '2 - '), ('SÃO JOSÉ DO RIO PRETO ', '41 1'), (' CAÇAPAVA ', '3 - '), ('JUNDIAÍ ', '12 1 '), ('SÃO JOSÉ DOS CAMPOS ', '85 1'), (' CACHOEIRA PAULISTA ', '1 - '), ('LARANJAL PAULISTA ', '2 1 '), ('SÃO MANUEL ', '3 1'), (' CAIEIRAS ', '32 4 '), ('LENÇÓIS PAULISTA ', '3 - '), ('SÃO MIGUEL ARCANJO ', '1 -'), (' CAJAMAR ', '5 1 '), ('LIMEIRA ', '4 - '), ('SÃO PAULO ', '5982 409'), (' CAMPINAS ', '100 5 '), ('LOUVEIRA ', '1 - '), ('SÃO PEDRO ', '1 -'), (' CARAGUATATUBA ', '2 1 '), ('MAIRIPORÃ ', '7 2 '), ('SÃO ROQUE ', '3 -'), (' CARAPICUÍBA ', '29 2 '), ('MARÍLIA ', '4 - '), ('SÃO SEBASTIÃO ', '4 1'), (' CATANDUVA ', '3 2 '), ('MATÃO ', '2 - '), ('SÃO VICENTE ', '14 -'), (' CEDRAL ', '1 - '), ('MAUÁ ', '42 - '), ('SERTÃOZINHO ', '2 -'), (' COTIA ', '53 3 '), ('MIRASSOL ', '4 - '), ('SOROCABA ', '18 2'), (' CRAVINHOS ', '2 1 '), ('MOCOCA ', '2 1 '), ('SUMARÉ ', '2 -'), (' CUBATÃO ', '2 - '), ('MOGI DAS CRUZES ', '50 2 '), ('SUZANO ', '30 1'), (' DIADEMA ', '59 1 '), ('MOGI GUAÇU ', '4 1 '), ('TABOÃO DA SERRA ', '72 5'), (' DRACENA ', '1 1 '), ('MONTE ALTO ', '3 - '), ('TANABI ', '1 -'), (' ELDORADO ', '1 - '), ('NOVA ODESSA ', '1 1 '), ('TATUÍ ', '4 -'), (' EMBU DAS ARTES ', '33 2 '), ('OLÍMPIA ', '2 - '), ('TAUBATÉ ', '6 -'), (' EMBU', '-'), ('GUAÇU ', '4 - '), ('ORLÂNDIA ', '2 - '), ('TERRA ROXA ', '1 -'), (' FERRAZ DE VASCONCELOS ', '35 - '), ('OSASCO ', '121 8 '), ('TUPÃ ', '1 -'), (' FRANCA ', '2 - '), ('OURINHOS ', '1 - '), ('VALINHOS ', '4 -'), (' FRANCISCO MORATO ', '12 1 '), ('PARIQUERA', '-'), ('AÇU ', '2 - '), ('VARGEM GRANDE PAULISTA ', '5 3'), (' FRANCO DA ROCHA ', '18 1 '), ('PAULÍNIA ', '5 - '), ('VINHEDO ', '7 -'), (' GUARARAPES ', '3 - '), ('PEDRA BELA ', '1 - '), ('VOTORANTIM ', '2 -'), (' GUARAREMA ', '2 - '), ('PENÁPOLIS ', '1 1 '), ('VOTUPORANGA ', '3 -'), (' GUARATINGUETÁ ', '1 - '), ('PERUÍBE ', '3 - '), ('OUTRO ESTADO ', '48 -'), (' GUARUJÁ ', '7 - '), ('PINDAMONHANGABA ', '1 - '), ('OUTRO PAÍS ', '40 -'), (' GUARULHOS ', '178 16 '), ('PINDORAMA ', '1 - '), ('IGNORADO ', '5 -'), (' HORTOLÂNDIA ', '2 - '), ('PIRACICABA ', '12 - '), (' IBIÚNA ', '1 - '), ('PIRAJUÍ ', '1 - ')]\n",
      "[(' ADAMANTINA ', '1 - '), ('IRACEMÁPOLIS ', '1 - '), ('PRAIA GRANDE ', '4 -'), (' ÁGUAS DE LINDÓIA ', '1 - '), ('ITANHAÉM ', '2 - '), ('PROMISSÃO ', '1 -'), (' AGUDOS ', '1 - '), ('ITAPECERICA DA SERRA ', '9 1 '), ('RIBEIRÃO PIRES ', '4 -'), (' AMERICANA ', '3 1 '), ('ITAPEVI ', '7 1 '), ('RIBEIRÃO PRETO ', '24 1'), (' ARAÇATUBA ', '4 - '), ('ITAPIRA ', '1 - '), ('RIO CLARO ', '2 -'), (' ARARAQUARA ', '2 - '), ('ITAQUAQUECETUBA ', '10 - '), ('SALTO DE PIRAPORA ', '1 -'), (' ARUJÁ ', '5 1 '), ('ITARARÉ ', '1 - '), ('SANTA BRANCA ', '2 -'), (' ASSIS ', '1 - '), ('ITU ', '1 - '), ('SANTA ISABEL ', '1 -'), (' ATIBAIA ', '3 - '), ('ITUPEVA ', '1 - '), ('SANTANA DE PARNAÍBA ', '24 -'), (' BARUERI ', '29 1 '), ('JABOTICABAL ', '3 1 '), ('SANTO ANDRÉ ', '76 3'), (' BAURU ', '2 - '), ('JAGUARIÚNA ', '1 - '), ('SANTOS ', '66 2'), (' BOTUCATU ', '7 - '), ('JANDIRA ', '2 - '), ('SÃO BERNARDO DO CAMPO ', '77 4'), (' BRODOWSKI ', '1 - '), ('JAÚ ', '1 - '), ('SÃO CAETANO DO SUL ', '38 1'), (' CACHOEIRA PAULISTA ', '1 - '), ('JOSÉ BONIFACIO ', '1 - '), ('SÃO JOSE DO RIO PRETO ', '9 -'), (' CAIEIRAS ', '19 1 '), ('JUNDIAÍ ', '6 - '), ('SÃO JOSE DO RIO PARDO ', '1 -'), (' CAJAMAR ', '1 - '), ('LENÇÓIS PAULISTA ', '1 - '), ('SÃO JOSÉ DOS CAMPOS ', '24 -'), (' CAMPINAS ', '26 4 '), ('LIMEIRA ', '2 - '), ('SÃO MANUEL ', '1 -'), (' CARAPICUIBA ', '11 1 '), ('LOUVEIRA ', '1 - '), ('SÃO PAULO ', '3496 212'), (' CEDRAL ', '1 - '), ('MAIRIPORÃ ', '4 1 '), ('SÃO SEBASTIÃO ', '3 1'), (' COTIA ', '28 2 '), ('MARÍLIA ', '1 - '), ('SÃO VICENTE ', '5 -'), (' CRAVINHOS ', '2 1 '), ('MATÃO ', '2 - '), ('SOROCABA ', '8 2'), (' DIADEMA ', '23 1 '), ('MAUÁ ', '15 - '), ('SUZANO ', '8 -'), (' DRACENA ', '1 1 '), ('MOGI DAS CRUZES ', '17 1 '), ('TABOÃO DA SERRA ', '39 2'), (' EMBU DAS ARTES ', '19 1 '), ('MOGI GUAÇÚ ', '1 - '), ('TATUÍ ', '1 -'), (' FERRAZ DE VASCONCELOS ', '15 - '), ('NOVA ODESSA ', '1 1 '), ('TAUBATÉ ', '1 -'), (' FRANCA ', '2 - '), ('ORLÂNDIA ', '1 - '), ('VALINHOS ', '3 -'), (' FRANCISCO MORATO ', '8 1 '), ('OSASCO ', '62 2 '), ('VARGEM GRANDE PAULISTA ', '4 1'), (' FRANCO DA ROCHA ', '7 1 '), ('PARIQUERA AÇU ', '1 - '), ('VINHEDO ', '1 -'), (' GUARARAPES ', '2 - '), ('PAULÍNIA ', '2 - '), ('VOTORANTIM ', '2 -'), (' GUARUJÁ ', '3 - '), ('PENÁPOLIS ', '1 1 '), ('VOTUPORANGA ', '1 -'), (' GUARULHOS ', '62 5 '), ('PIRACICABA ', '6 - '), ('OUTRO ESTADO ', '34 -'), (' HORTOLÂNDIA ', '1 - '), ('PIRAJUÍ ', '1 - '), ('OUTRO PAÍS ', '35 -'), (' INDAIATUBA ', '2 - '), ('POÁ ', '3 - '), ('IGN ', '7 -')]\n"
     ]
    },
    {
     "name": "stderr",
     "output_type": "stream",
     "text": [
      "Got stderr: abr 12, 2020 1:31:16 PM org.apache.pdfbox.pdmodel.font.PDCIDFontType2 <init>\n",
      "INFO: OpenType Layout tables used in font ABCDEE+Calibri,Italic are not implemented in PDFBox and will be ignored\n",
      "abr 12, 2020 1:31:16 PM org.apache.pdfbox.pdmodel.font.PDCIDFontType2 <init>\n",
      "INFO: OpenType Layout tables used in font ABCDEE+Calibri are not implemented in PDFBox and will be ignored\n",
      "abr 12, 2020 1:31:16 PM org.apache.pdfbox.pdmodel.font.PDCIDFontType2 <init>\n",
      "INFO: OpenType Layout tables used in font ABCDEE+Calibri,Italic are not implemented in PDFBox and will be ignored\n",
      "abr 12, 2020 1:31:17 PM org.apache.pdfbox.pdmodel.font.PDCIDFontType2 <init>\n",
      "INFO: OpenType Layout tables used in font ABCDEE+Calibri are not implemented in PDFBox and will be ignored\n",
      "abr 12, 2020 1:31:18 PM org.apache.pdfbox.pdmodel.font.PDCIDFontType2 <init>\n",
      "INFO: OpenType Layout tables used in font ABCDEE+Calibri,Italic are not implemented in PDFBox and will be ignored\n",
      "abr 12, 2020 1:31:18 PM org.apache.pdfbox.pdmodel.font.PDCIDFontType2 <init>\n",
      "INFO: OpenType Layout tables used in font ABCDEE+Calibri are not implemented in PDFBox and will be ignored\n",
      "\n"
     ]
    },
    {
     "name": "stdout",
     "output_type": "stream",
     "text": [
      "[(' ARUJÁ ', '1 - '), ('LOUVEIRA ', '1 - '), ('SÃO JOSÉ DOS CAMPOS ', '4 -'), (' BARUERI ', '3 - '), ('MAIRIPORÃ ', '2 - '), ('SÃO PAULO ', '1044 62'), (' CAIEIRAS ', '2 - '), ('MAUÁ ', '2 - '), ('SÃO SEBASTIÃO ', '2 -'), (' CAMPINAS ', '5 - '), ('MOGI DAS CRUZES ', '8 - '), ('SOROCABA ', '1 -'), (' CARAPICUÍBA ', '2 - '), ('OSASCO ', '4 - '), ('SUZANO ', '1 -'), (' COTIA ', '6 - '), ('POÁ ', '1 - '), ('TABOÃO DA SERRA ', '2 1'), (' EMBU DAS ARTES ', '1 - '), ('RIBEIRÃO PIRES ', '1 - '), ('TATUÍ ', '1 -'), (' DIADEMA ', '1 - '), ('RIBEIRÃO PRETO ', '3 1 '), ('TAUBATÉ ', '1 -'), (' FERRAZ DE VASCONCELOS ', '2 - '), ('RIO CLARO ', '1 - '), ('VALINHOS ', '1 -'), (' GUARULHOS ', '13 2 '), ('SANTANA DE PARNAÍBA ', '6 - '), ('VARGEM GRANDE PAULISTA ', '2 1'), (' HORTOLÂNDIA ', '1 - '), ('SANTO ANDRÉ ', '17 - '), ('OUTRO PAÍS ', '27 -'), (' IRACEMÁPOLIS ', '1 - '), ('SÃO BERNARDO DO CAMPO ', '15 - '), ('OUTRO ESTADO ', '14 -'), (' JAGUARIÚNA ', '1 - '), ('SÃO CAETANO DO SUL ', '16 - '), ('IGNORADO ', '3 1'), (' JUNDIAÍ ', '3 - '), ('SÃO JOSÉ DO RIO PRETO ', '1 - ')]\n"
     ]
    },
    {
     "name": "stderr",
     "output_type": "stream",
     "text": [
      "Got stderr: abr 12, 2020 1:31:19 PM org.apache.pdfbox.pdmodel.font.PDCIDFontType2 <init>\n",
      "INFO: OpenType Layout tables used in font ABCDEE+Calibri,Italic are not implemented in PDFBox and will be ignored\n",
      "abr 12, 2020 1:31:19 PM org.apache.pdfbox.pdmodel.font.PDCIDFontType2 <init>\n",
      "INFO: OpenType Layout tables used in font ABCDEE+Calibri are not implemented in PDFBox and will be ignored\n",
      "abr 12, 2020 1:31:19 PM org.apache.pdfbox.pdmodel.font.PDCIDFontType2 <init>\n",
      "INFO: OpenType Layout tables used in font ABCDEE+Calibri,Italic are not implemented in PDFBox and will be ignored\n",
      "abr 12, 2020 1:31:20 PM org.apache.pdfbox.pdmodel.font.PDCIDFontType2 <init>\n",
      "INFO: OpenType Layout tables used in font ABCDEE+Calibri are not implemented in PDFBox and will be ignored\n",
      "abr 12, 2020 1:31:20 PM org.apache.pdfbox.pdmodel.font.PDCIDFontType2 <init>\n",
      "INFO: OpenType Layout tables used in font ABCDEE+Calibri,Italic are not implemented in PDFBox and will be ignored\n",
      "abr 12, 2020 1:31:21 PM org.apache.pdfbox.pdmodel.font.PDCIDFontType2 <init>\n",
      "INFO: OpenType Layout tables used in font ABCDEE+Calibri are not implemented in PDFBox and will be ignored\n",
      "\n"
     ]
    },
    {
     "name": "stdout",
     "output_type": "stream",
     "text": [
      "[(' ARUJÁ ', '1 - '), ('MAIRIPORÃ ', '1 - '), ('SÃO JOSE DOS CAMPOS ', '2 -'), (' BARUERI ', '3 - '), ('MAUÁ ', '2 - '), ('SÃO PAULO ', '899 53'), (' CAIEIRAS ', '2 - '), ('MOGI DAS CRUZES ', '7 - '), ('SÃO SEBASTIAO ', '2 -'), (' CAMPINAS ', '4 - '), ('OSASCO ', '3 - '), ('SUZANO ', '2 -'), (' CARAPICUÍBA ', '2 - '), ('POÁ ', '1 - '), ('TABOÃO DA SERRA ', '2 1'), (' COTIA ', '5 - '), ('RIBEIRÃO PRETO ', '1 1 '), ('TAUBATÉ ', '1 -'), (' EMBU DAS ARTES ', '1 - '), ('RIBEIRÃO PIRES ', '1 - '), ('TATUÍ ', '1 -'), (' GUARULHOS ', '9 1 '), ('RIO CLARO ', '1 - '), ('VALINHOS ', '1 -'), (' HORTOLÂNDIA ', '1 - '), ('SANTANA DE PARNAÍBA ', '6 - '), ('VARGEM GRANDE PAULISTA ', '1 1'), (' IRACEMÁPOLIS ', '1 - '), ('SANTO ANDRÉ ', '16 - '), ('OUTRO ESTADO ', '8 -'), (' JAGUARIÚNA ', '1 - '), ('SÃO BERNARDO DO CAMPO ', '13 - '), ('OUTRO PAÍS ', '28 -'), (' JUNDIAÍ ', '2 - '), ('SÃO CAETANO DO SUL ', '17 - '), ('IGNORADO ', '1 1'), (' LOUVEIRA ', '2 - '), ('SÃO JOSE DO RIO PRETO ', '1 - ')]\n"
     ]
    },
    {
     "name": "stderr",
     "output_type": "stream",
     "text": [
      "Got stderr: abr 12, 2020 1:31:22 PM org.apache.pdfbox.pdmodel.font.PDCIDFontType2 <init>\n",
      "INFO: OpenType Layout tables used in font ABCDEE+Calibri are not implemented in PDFBox and will be ignored\n",
      "abr 12, 2020 1:31:22 PM org.apache.pdfbox.pdmodel.font.PDCIDFontType2 <init>\n",
      "INFO: OpenType Layout tables used in font ABCDEE+Calibri,Italic are not implemented in PDFBox and will be ignored\n",
      "abr 12, 2020 1:31:22 PM org.apache.pdfbox.pdmodel.font.PDCIDFontType2 <init>\n",
      "INFO: OpenType Layout tables used in font ABCDEE+Calibri are not implemented in PDFBox and will be ignored\n",
      "abr 12, 2020 1:31:23 PM org.apache.pdfbox.pdmodel.font.PDCIDFontType2 <init>\n",
      "INFO: OpenType Layout tables used in font ABCDEE+Calibri,Italic are not implemented in PDFBox and will be ignored\n",
      "abr 12, 2020 1:31:23 PM org.apache.pdfbox.pdmodel.font.PDCIDFontType2 <init>\n",
      "INFO: OpenType Layout tables used in font ABCDEE+Calibri are not implemented in PDFBox and will be ignored\n",
      "abr 12, 2020 1:31:23 PM org.apache.pdfbox.pdmodel.font.PDCIDFontType2 <init>\n",
      "INFO: OpenType Layout tables used in font ABCDEE+Calibri,Italic are not implemented in PDFBox and will be ignored\n",
      "\n"
     ]
    },
    {
     "name": "stdout",
     "output_type": "stream",
     "text": [
      "[(' AGUAS DE LINDOIA ', '1 '), ('ITANHAEM ', '2 '), ('PRAIA GRANDE ', '4'), (' AGUDOS ', '1 '), ('ITAPECERICA DA SERRA ', '9 1 '), ('PROMISSAO ', '1'), (' AMERICANA ', '3 2 '), ('ITAPETININGA ', '1 '), ('RIBEIRAO PIRES ', '4'), (' ARARAQUARA ', '2 '), ('ITAPEVI ', '8 1 '), ('RIBEIRAO PRETO ', '25 1'), (' ARCATUBA ', '4 '), ('ITAPIRA ', '1 '), ('RIO CLARO ', '2'), (' ARUJA ', '6 1 '), ('ITAQUAQUECETUBA ', '10 '), ('SALTO DE PIRAPORA ', '1'), (' ASSIS ', '1 '), ('ITARARE ', '1 '), ('SANTA BRANCA ', '2'), (' ATIBAIA ', '4 '), ('ITU ', '1 '), ('SANTA ISABEL ', '1'), (' BARUERI ', '30 1 '), ('ITUPEVA ', '1 '), ('SANTANA DE PARNAIBA ', '24'), (' BAURU ', '3 1 '), ('JABOTICABAL ', '3 1 '), ('SANTO ANDRE ', '72 3'), (' BOTUCATU ', '7 '), ('JAGUARIUNA ', '1 '), ('SANTOS ', '72 2'), (' BRODOWSKI ', '1 '), ('JANDIRA ', '2 '), ('SAO BERNARDO DO CAMPO ', '81 5'), (' CACHOEIRA PAULISTA ', '1 '), ('JAU ', '1 '), ('SAO CAETANO DO SUL ', '38 1'), (' CAIEIRAS ', '20 1 '), ('JOSE BONIFACIO ', '1 '), ('SÃO JOSE DO RIO PARDO ', '1'), (' CAJAMAR ', '1 '), ('JUNDIAI ', '6 '), ('SAO JOSE DO RIO PRETO ', '10'), (' CAMPINAS ', '26 4 '), ('LENCOIS PAULISTA ', '1 '), ('SAO JOSE DOS CAMPOS ', '30'), (' CARAPICUIBA ', '14 1 '), ('LIMEIRA ', '2 '), ('SAO MANUEL ', '1'), (' CEDRAL ', '1 '), ('LOUVEIRA ', '1 '), ('SAO PAULO ', '3612 220'), (' COTIA ', '29 3 '), ('MAIRIPORA ', '5 2 '), ('SAO SEBASTIAO ', '3 1'), (' CRAVINHOS ', '2 1 '), ('MARILIA ', '1 '), ('SAO VICENTE ', '5'), (' DIADEMA ', '24 1 '), ('MATAO ', '2 '), ('SOROCABA ', '9 2'), (' DRACENA ', '1 1 '), ('MAUA ', '16 '), ('SUZANO ', '9'), (' EMBU DAS ARTES ', '20 1 '), ('MOGI DAS CRUZES ', '17 1 '), ('TABOAO DA SERRA ', '41 3'), (' FERRAZ  DE VASCONCELOS ', '15 '), ('MOGI GUACU ', '1 '), ('TATUI ', '1'), (' FRANCA ', '2 '), ('NOVA ODESSA ', '1 1 '), ('TAUBATE ', '1'), (' FRANCISCO MORATO ', '8 1 '), ('ORLANDIA ', '1 '), ('TERRA ROXA ', '1'), (' FRANCO DA ROCHA ', '8 1 '), ('OSASCO ', '69 3 '), ('VALINHOS ', '3'), (' GUARARAPES ', '2 '), ('PARIQUERA ACU ', '1 '), ('VARGEM GRANDE PAULISTA ', '4 1'), (' GUARUJA ', '3 '), ('PAULINIA ', '2 '), ('VINHEDO ', '1'), (' GUARULHOS ', '62 5 '), ('PENAPOLIS ', '1 1 '), ('VOTORANTIM ', '2'), (' HORTOLANDIA ', '1 '), ('PIRACICABA ', '6 '), ('VOTUPORANGA ', '1'), (' INDAIAUBA ', '2 '), ('PIRAJUI ', '1 '), ('OUTRO ESTADO ', '34'), (' IRACEMAPOLIS ', '1 '), ('POA ', '3 '), ('OUTRO PAIS ', '34'), (' ITANHAEM ', '2 '), ('IGN ', '5')]\n"
     ]
    }
   ],
   "source": [
    "df_list = []\n",
    "for pdf in arr:\n",
    "    boletim_and_date = pdf.split(\"_\")\n",
    "    boletim = boletim_and_date[1]\n",
    "    date = boletim_and_date[2][:-4] + \"20\"\n",
    "    file_path = \"./boletins/\" + pdf\n",
    "    ugly_df_list = tabula.read_pdf(file_path, pages='all')\n",
    "    for ugly_df in ugly_df_list:\n",
    "        if ugly_df.shape[0] > 0 and (\"Casos de COVID-19 por município de residência\" in ugly_df.columns[0] or \\\n",
    "        \"Casos de COVID-19 por município de residência\" in ugly_df.columns[1]):\n",
    "            break\n",
    "    petty_df = parse_ugly_df(ugly_df)\n",
    "    petty_df[\"data\"] = date\n",
    "    petty_df[\"boletim\"] = boletim\n",
    "    df_list.append(petty_df)\n",
    "    \n",
    "df_covid = pd.concat(df_list)"
   ]
  },
  {
   "cell_type": "code",
   "execution_count": 168,
   "metadata": {},
   "outputs": [
    {
     "data": {
      "text/html": [
       "<div>\n",
       "<style scoped>\n",
       "    .dataframe tbody tr th:only-of-type {\n",
       "        vertical-align: middle;\n",
       "    }\n",
       "\n",
       "    .dataframe tbody tr th {\n",
       "        vertical-align: top;\n",
       "    }\n",
       "\n",
       "    .dataframe thead th {\n",
       "        text-align: right;\n",
       "    }\n",
       "</style>\n",
       "<table border=\"1\" class=\"dataframe\">\n",
       "  <thead>\n",
       "    <tr style=\"text-align: right;\">\n",
       "      <th></th>\n",
       "      <th>municipio</th>\n",
       "      <th>confirmados</th>\n",
       "      <th>obitos</th>\n",
       "      <th>date</th>\n",
       "      <th>boletim</th>\n",
       "    </tr>\n",
       "  </thead>\n",
       "  <tbody>\n",
       "    <tr>\n",
       "      <th>0</th>\n",
       "      <td>ÁGUAS DE LINDÓIA</td>\n",
       "      <td>1.0</td>\n",
       "      <td>0.0</td>\n",
       "      <td>02-04-2020</td>\n",
       "      <td>36</td>\n",
       "    </tr>\n",
       "    <tr>\n",
       "      <th>1</th>\n",
       "      <td>ITAPEVI</td>\n",
       "      <td>6.0</td>\n",
       "      <td>0.0</td>\n",
       "      <td>02-04-2020</td>\n",
       "      <td>36</td>\n",
       "    </tr>\n",
       "    <tr>\n",
       "      <th>2</th>\n",
       "      <td>SALTO DE PIRAPORA</td>\n",
       "      <td>1.0</td>\n",
       "      <td>0.0</td>\n",
       "      <td>02-04-2020</td>\n",
       "      <td>36</td>\n",
       "    </tr>\n",
       "    <tr>\n",
       "      <th>3</th>\n",
       "      <td>AGUDOS</td>\n",
       "      <td>1.0</td>\n",
       "      <td>0.0</td>\n",
       "      <td>02-04-2020</td>\n",
       "      <td>36</td>\n",
       "    </tr>\n",
       "    <tr>\n",
       "      <th>4</th>\n",
       "      <td>ITAQUAQUECETUBA</td>\n",
       "      <td>5.0</td>\n",
       "      <td>0.0</td>\n",
       "      <td>02-04-2020</td>\n",
       "      <td>36</td>\n",
       "    </tr>\n",
       "    <tr>\n",
       "      <th>...</th>\n",
       "      <td>...</td>\n",
       "      <td>...</td>\n",
       "      <td>...</td>\n",
       "      <td>...</td>\n",
       "      <td>...</td>\n",
       "    </tr>\n",
       "    <tr>\n",
       "      <th>96</th>\n",
       "      <td>IRACEMAPOLIS</td>\n",
       "      <td>1.0</td>\n",
       "      <td>NaN</td>\n",
       "      <td>05-04-2020</td>\n",
       "      <td>39</td>\n",
       "    </tr>\n",
       "    <tr>\n",
       "      <th>97</th>\n",
       "      <td>POA</td>\n",
       "      <td>3.0</td>\n",
       "      <td>NaN</td>\n",
       "      <td>05-04-2020</td>\n",
       "      <td>39</td>\n",
       "    </tr>\n",
       "    <tr>\n",
       "      <th>98</th>\n",
       "      <td>OUTRO PAIS</td>\n",
       "      <td>34.0</td>\n",
       "      <td>NaN</td>\n",
       "      <td>05-04-2020</td>\n",
       "      <td>39</td>\n",
       "    </tr>\n",
       "    <tr>\n",
       "      <th>99</th>\n",
       "      <td>ITANHAEM</td>\n",
       "      <td>2.0</td>\n",
       "      <td>NaN</td>\n",
       "      <td>05-04-2020</td>\n",
       "      <td>39</td>\n",
       "    </tr>\n",
       "    <tr>\n",
       "      <th>100</th>\n",
       "      <td>IGN</td>\n",
       "      <td>5.0</td>\n",
       "      <td>NaN</td>\n",
       "      <td>05-04-2020</td>\n",
       "      <td>39</td>\n",
       "    </tr>\n",
       "  </tbody>\n",
       "</table>\n",
       "<p>1547 rows × 5 columns</p>\n",
       "</div>"
      ],
      "text/plain": [
       "             municipio  confirmados  obitos        date boletim\n",
       "0     ÁGUAS DE LINDÓIA          1.0     0.0  02-04-2020      36\n",
       "1              ITAPEVI          6.0     0.0  02-04-2020      36\n",
       "2    SALTO DE PIRAPORA          1.0     0.0  02-04-2020      36\n",
       "3               AGUDOS          1.0     0.0  02-04-2020      36\n",
       "4      ITAQUAQUECETUBA          5.0     0.0  02-04-2020      36\n",
       "..                 ...          ...     ...         ...     ...\n",
       "96        IRACEMAPOLIS          1.0     NaN  05-04-2020      39\n",
       "97                 POA          3.0     NaN  05-04-2020      39\n",
       "98          OUTRO PAIS         34.0     NaN  05-04-2020      39\n",
       "99            ITANHAEM          2.0     NaN  05-04-2020      39\n",
       "100                IGN          5.0     NaN  05-04-2020      39\n",
       "\n",
       "[1547 rows x 5 columns]"
      ]
     },
     "execution_count": 168,
     "metadata": {},
     "output_type": "execute_result"
    }
   ],
   "source": [
    "df_covid"
   ]
  },
  {
   "cell_type": "code",
   "execution_count": 169,
   "metadata": {},
   "outputs": [],
   "source": [
    "df_covid = df_covid.fillna(0)"
   ]
  },
  {
   "cell_type": "code",
   "execution_count": 176,
   "metadata": {},
   "outputs": [],
   "source": [
    "df_covid = df_covid.sort_values(by=['boletim'])"
   ]
  },
  {
   "cell_type": "code",
   "execution_count": 181,
   "metadata": {},
   "outputs": [],
   "source": [
    "df_covid = df_covid[[\"date\", \"boletim\", \"municipio\", \"confirmados\", \"obitos\"]]"
   ]
  },
  {
   "cell_type": "code",
   "execution_count": 184,
   "metadata": {},
   "outputs": [],
   "source": [
    "df_covid.columns = [\"Dia\", \"Boletim\", \"Municipio\", \"Confirmados\", \"Obitos\"]"
   ]
  },
  {
   "cell_type": "code",
   "execution_count": 185,
   "metadata": {},
   "outputs": [
    {
     "data": {
      "text/html": [
       "<div>\n",
       "<style scoped>\n",
       "    .dataframe tbody tr th:only-of-type {\n",
       "        vertical-align: middle;\n",
       "    }\n",
       "\n",
       "    .dataframe tbody tr th {\n",
       "        vertical-align: top;\n",
       "    }\n",
       "\n",
       "    .dataframe thead th {\n",
       "        text-align: right;\n",
       "    }\n",
       "</style>\n",
       "<table border=\"1\" class=\"dataframe\">\n",
       "  <thead>\n",
       "    <tr style=\"text-align: right;\">\n",
       "      <th></th>\n",
       "      <th>Dia</th>\n",
       "      <th>Boletim</th>\n",
       "      <th>Municipio</th>\n",
       "      <th>Confirmados</th>\n",
       "      <th>Obitos</th>\n",
       "    </tr>\n",
       "  </thead>\n",
       "  <tbody>\n",
       "    <tr>\n",
       "      <th>38</th>\n",
       "      <td>25-03-2020</td>\n",
       "      <td>30</td>\n",
       "      <td>SAO BERNARDO DO CAMPO</td>\n",
       "      <td>13.0</td>\n",
       "      <td>0.0</td>\n",
       "    </tr>\n",
       "    <tr>\n",
       "      <th>23</th>\n",
       "      <td>25-03-2020</td>\n",
       "      <td>30</td>\n",
       "      <td>TABOAO DA SERRA</td>\n",
       "      <td>1.0</td>\n",
       "      <td>1.0</td>\n",
       "    </tr>\n",
       "    <tr>\n",
       "      <th>22</th>\n",
       "      <td>25-03-2020</td>\n",
       "      <td>30</td>\n",
       "      <td>RIBEIRAO PIRES</td>\n",
       "      <td>1.0</td>\n",
       "      <td>0.0</td>\n",
       "    </tr>\n",
       "    <tr>\n",
       "      <th>20</th>\n",
       "      <td>25-03-2020</td>\n",
       "      <td>30</td>\n",
       "      <td>EMBU DAS ARTES</td>\n",
       "      <td>1.0</td>\n",
       "      <td>0.0</td>\n",
       "    </tr>\n",
       "    <tr>\n",
       "      <th>19</th>\n",
       "      <td>25-03-2020</td>\n",
       "      <td>30</td>\n",
       "      <td>SUZANO</td>\n",
       "      <td>1.0</td>\n",
       "      <td>0.0</td>\n",
       "    </tr>\n",
       "    <tr>\n",
       "      <th>...</th>\n",
       "      <td>...</td>\n",
       "      <td>...</td>\n",
       "      <td>...</td>\n",
       "      <td>...</td>\n",
       "      <td>...</td>\n",
       "    </tr>\n",
       "    <tr>\n",
       "      <th>105</th>\n",
       "      <td>11-04-2020</td>\n",
       "      <td>45</td>\n",
       "      <td>SÃO SEBASTIÃO</td>\n",
       "      <td>4.0</td>\n",
       "      <td>1.0</td>\n",
       "    </tr>\n",
       "    <tr>\n",
       "      <th>104</th>\n",
       "      <td>11-04-2020</td>\n",
       "      <td>45</td>\n",
       "      <td>MAIRIPORÃ</td>\n",
       "      <td>7.0</td>\n",
       "      <td>2.0</td>\n",
       "    </tr>\n",
       "    <tr>\n",
       "      <th>103</th>\n",
       "      <td>11-04-2020</td>\n",
       "      <td>45</td>\n",
       "      <td>CARAGUATATUBA</td>\n",
       "      <td>2.0</td>\n",
       "      <td>1.0</td>\n",
       "    </tr>\n",
       "    <tr>\n",
       "      <th>111</th>\n",
       "      <td>11-04-2020</td>\n",
       "      <td>45</td>\n",
       "      <td>SERTÃOZINHO</td>\n",
       "      <td>2.0</td>\n",
       "      <td>0.0</td>\n",
       "    </tr>\n",
       "    <tr>\n",
       "      <th>160</th>\n",
       "      <td>11-04-2020</td>\n",
       "      <td>45</td>\n",
       "      <td>PERUÍBE</td>\n",
       "      <td>3.0</td>\n",
       "      <td>0.0</td>\n",
       "    </tr>\n",
       "  </tbody>\n",
       "</table>\n",
       "<p>1547 rows × 5 columns</p>\n",
       "</div>"
      ],
      "text/plain": [
       "            Dia Boletim              Municipio  Confirmados  Obitos\n",
       "38   25-03-2020      30  SAO BERNARDO DO CAMPO         13.0     0.0\n",
       "23   25-03-2020      30        TABOAO DA SERRA          1.0     1.0\n",
       "22   25-03-2020      30         RIBEIRAO PIRES          1.0     0.0\n",
       "20   25-03-2020      30         EMBU DAS ARTES          1.0     0.0\n",
       "19   25-03-2020      30                 SUZANO          1.0     0.0\n",
       "..          ...     ...                    ...          ...     ...\n",
       "105  11-04-2020      45          SÃO SEBASTIÃO          4.0     1.0\n",
       "104  11-04-2020      45              MAIRIPORÃ          7.0     2.0\n",
       "103  11-04-2020      45          CARAGUATATUBA          2.0     1.0\n",
       "111  11-04-2020      45            SERTÃOZINHO          2.0     0.0\n",
       "160  11-04-2020      45                PERUÍBE          3.0     0.0\n",
       "\n",
       "[1547 rows x 5 columns]"
      ]
     },
     "execution_count": 185,
     "metadata": {},
     "output_type": "execute_result"
    }
   ],
   "source": [
    "df_covid"
   ]
  },
  {
   "cell_type": "code",
   "execution_count": 186,
   "metadata": {},
   "outputs": [],
   "source": [
    "df_covid.to_csv(\"data/covid-19-municipios-sp.csv\", index=False)"
   ]
  },
  {
   "cell_type": "code",
   "execution_count": 209,
   "metadata": {},
   "outputs": [],
   "source": [
    "df_covid2 = pd.read_csv(\"data/covid-19-municipios-sp.csv\")"
   ]
  },
  {
   "cell_type": "code",
   "execution_count": 210,
   "metadata": {},
   "outputs": [
    {
     "data": {
      "text/html": [
       "<div>\n",
       "<style scoped>\n",
       "    .dataframe tbody tr th:only-of-type {\n",
       "        vertical-align: middle;\n",
       "    }\n",
       "\n",
       "    .dataframe tbody tr th {\n",
       "        vertical-align: top;\n",
       "    }\n",
       "\n",
       "    .dataframe thead th {\n",
       "        text-align: right;\n",
       "    }\n",
       "</style>\n",
       "<table border=\"1\" class=\"dataframe\">\n",
       "  <thead>\n",
       "    <tr style=\"text-align: right;\">\n",
       "      <th></th>\n",
       "      <th>Dia</th>\n",
       "      <th>Boletim</th>\n",
       "      <th>Municipio</th>\n",
       "      <th>Confirmados</th>\n",
       "      <th>Obitos</th>\n",
       "    </tr>\n",
       "  </thead>\n",
       "  <tbody>\n",
       "    <tr>\n",
       "      <th>58</th>\n",
       "      <td>26-03-2020</td>\n",
       "      <td>31</td>\n",
       "      <td>SÃO PAULO</td>\n",
       "      <td>899.0</td>\n",
       "      <td>53.0</td>\n",
       "    </tr>\n",
       "    <tr>\n",
       "      <th>80</th>\n",
       "      <td>27-03-2020</td>\n",
       "      <td>32</td>\n",
       "      <td>SÃO PAULO</td>\n",
       "      <td>1044.0</td>\n",
       "      <td>62.0</td>\n",
       "    </tr>\n",
       "    <tr>\n",
       "      <th>147</th>\n",
       "      <td>30-03-2020</td>\n",
       "      <td>33</td>\n",
       "      <td>SÃO PAULO</td>\n",
       "      <td>1233.0</td>\n",
       "      <td>103.0</td>\n",
       "    </tr>\n",
       "    <tr>\n",
       "      <th>225</th>\n",
       "      <td>31-03-2020</td>\n",
       "      <td>34</td>\n",
       "      <td>SÃO PAULO</td>\n",
       "      <td>1885.0</td>\n",
       "      <td>121.0</td>\n",
       "    </tr>\n",
       "    <tr>\n",
       "      <th>304</th>\n",
       "      <td>01-04-2020</td>\n",
       "      <td>35</td>\n",
       "      <td>SÃO PAULO</td>\n",
       "      <td>2418.0</td>\n",
       "      <td>144.0</td>\n",
       "    </tr>\n",
       "    <tr>\n",
       "      <th>383</th>\n",
       "      <td>02-04-2020</td>\n",
       "      <td>36</td>\n",
       "      <td>SÃO PAULO</td>\n",
       "      <td>2815.0</td>\n",
       "      <td>164.0</td>\n",
       "    </tr>\n",
       "    <tr>\n",
       "      <th>416</th>\n",
       "      <td>03-04-2020</td>\n",
       "      <td>37</td>\n",
       "      <td>SÃO PAULO</td>\n",
       "      <td>3202.0</td>\n",
       "      <td>186.0</td>\n",
       "    </tr>\n",
       "    <tr>\n",
       "      <th>505</th>\n",
       "      <td>04-04-2020</td>\n",
       "      <td>38</td>\n",
       "      <td>SÃO PAULO</td>\n",
       "      <td>3496.0</td>\n",
       "      <td>212.0</td>\n",
       "    </tr>\n",
       "    <tr>\n",
       "      <th>707</th>\n",
       "      <td>06-04-2020</td>\n",
       "      <td>40</td>\n",
       "      <td>SÃO PAULO</td>\n",
       "      <td>3754.0</td>\n",
       "      <td>244.0</td>\n",
       "    </tr>\n",
       "    <tr>\n",
       "      <th>894</th>\n",
       "      <td>07-04-2020</td>\n",
       "      <td>41</td>\n",
       "      <td>SÃO PAULO</td>\n",
       "      <td>4258.0</td>\n",
       "      <td>296.0</td>\n",
       "    </tr>\n",
       "    <tr>\n",
       "      <th>1044</th>\n",
       "      <td>08-04-2020</td>\n",
       "      <td>42</td>\n",
       "      <td>SÃO PAULO</td>\n",
       "      <td>4947.0</td>\n",
       "      <td>339.0</td>\n",
       "    </tr>\n",
       "    <tr>\n",
       "      <th>1106</th>\n",
       "      <td>09-04-2020</td>\n",
       "      <td>43</td>\n",
       "      <td>SÃO PAULO</td>\n",
       "      <td>5471.0</td>\n",
       "      <td>384.0</td>\n",
       "    </tr>\n",
       "    <tr>\n",
       "      <th>1336</th>\n",
       "      <td>10-04-2020</td>\n",
       "      <td>44</td>\n",
       "      <td>SÃO PAULO</td>\n",
       "      <td>5982.0</td>\n",
       "      <td>409.0</td>\n",
       "    </tr>\n",
       "    <tr>\n",
       "      <th>1495</th>\n",
       "      <td>11-04-2020</td>\n",
       "      <td>45</td>\n",
       "      <td>SÃO PAULO</td>\n",
       "      <td>6131.0</td>\n",
       "      <td>422.0</td>\n",
       "    </tr>\n",
       "  </tbody>\n",
       "</table>\n",
       "</div>"
      ],
      "text/plain": [
       "             Dia  Boletim  Municipio  Confirmados  Obitos\n",
       "58    26-03-2020       31  SÃO PAULO        899.0    53.0\n",
       "80    27-03-2020       32  SÃO PAULO       1044.0    62.0\n",
       "147   30-03-2020       33  SÃO PAULO       1233.0   103.0\n",
       "225   31-03-2020       34  SÃO PAULO       1885.0   121.0\n",
       "304   01-04-2020       35  SÃO PAULO       2418.0   144.0\n",
       "383   02-04-2020       36  SÃO PAULO       2815.0   164.0\n",
       "416   03-04-2020       37  SÃO PAULO       3202.0   186.0\n",
       "505   04-04-2020       38  SÃO PAULO       3496.0   212.0\n",
       "707   06-04-2020       40  SÃO PAULO       3754.0   244.0\n",
       "894   07-04-2020       41  SÃO PAULO       4258.0   296.0\n",
       "1044  08-04-2020       42  SÃO PAULO       4947.0   339.0\n",
       "1106  09-04-2020       43  SÃO PAULO       5471.0   384.0\n",
       "1336  10-04-2020       44  SÃO PAULO       5982.0   409.0\n",
       "1495  11-04-2020       45  SÃO PAULO       6131.0   422.0"
      ]
     },
     "execution_count": 210,
     "metadata": {},
     "output_type": "execute_result"
    }
   ],
   "source": [
    "sao_paulo = df_covid2[df_covid2[\"Municipio\"] == \"SÃO PAULO\"]\n",
    "sao_paulo"
   ]
  },
  {
   "cell_type": "code",
   "execution_count": 211,
   "metadata": {},
   "outputs": [
    {
     "data": {
      "text/plain": [
       "58       NaN\n",
       "80       9.0\n",
       "147     41.0\n",
       "225     18.0\n",
       "304     23.0\n",
       "383     20.0\n",
       "416     22.0\n",
       "505     26.0\n",
       "707     32.0\n",
       "894     52.0\n",
       "1044    43.0\n",
       "1106    45.0\n",
       "1336    25.0\n",
       "1495    13.0\n",
       "Name: Obitos, dtype: float64"
      ]
     },
     "execution_count": 211,
     "metadata": {},
     "output_type": "execute_result"
    }
   ],
   "source": [
    "sao_paulo.Obitos.diff()"
   ]
  },
  {
   "cell_type": "code",
   "execution_count": 201,
   "metadata": {},
   "outputs": [
    {
     "data": {
      "text/plain": [
       "145"
      ]
     },
     "execution_count": 201,
     "metadata": {},
     "output_type": "execute_result"
    }
   ],
   "source": [
    "1044 - 899"
   ]
  },
  {
   "cell_type": "markdown",
   "metadata": {},
   "source": [
    "# Obtendo qt casos"
   ]
  },
  {
   "cell_type": "code",
   "execution_count": 215,
   "metadata": {},
   "outputs": [
    {
     "name": "stderr",
     "output_type": "stream",
     "text": [
      "/home/cloves/.local/lib/python3.6/site-packages/ipykernel_launcher.py:4: SettingWithCopyWarning: \n",
      "A value is trying to be set on a copy of a slice from a DataFrame.\n",
      "Try using .loc[row_indexer,col_indexer] = value instead\n",
      "\n",
      "See the caveats in the documentation: https://pandas.pydata.org/pandas-docs/stable/user_guide/indexing.html#returning-a-view-versus-a-copy\n",
      "  after removing the cwd from sys.path.\n",
      "/home/cloves/.local/lib/python3.6/site-packages/ipykernel_launcher.py:5: SettingWithCopyWarning: \n",
      "A value is trying to be set on a copy of a slice from a DataFrame.\n",
      "Try using .loc[row_indexer,col_indexer] = value instead\n",
      "\n",
      "See the caveats in the documentation: https://pandas.pydata.org/pandas-docs/stable/user_guide/indexing.html#returning-a-view-versus-a-copy\n",
      "  \"\"\"\n"
     ]
    }
   ],
   "source": [
    "df_list = []\n",
    "for municipio in df_covid2.Municipio.unique():\n",
    "    d = df_covid2[df_covid2[\"Municipio\"] == municipio]\n",
    "    d[\"Qt_Novos_Casos\"] = d.Confirmados.diff()\n",
    "    d[\"Qt_Novas_Mortes\"] = d.Obitos.diff()\n",
    "    df_list.append(d)\n",
    "    \n",
    "df_covid3 = pd.concat(df_list)"
   ]
  },
  {
   "cell_type": "code",
   "execution_count": 216,
   "metadata": {},
   "outputs": [],
   "source": [
    "df_covid3 = df_covid3.sort_values(by=['Boletim', \"Municipio\"])"
   ]
  },
  {
   "cell_type": "markdown",
   "metadata": {},
   "source": [
    "# Obtendo latitude e longitude"
   ]
  },
  {
   "cell_type": "code",
   "execution_count": 220,
   "metadata": {},
   "outputs": [],
   "source": [
    "def do_geocode(address):\n",
    "    geolocator = Nominatim(user_agent=\"clovesgtx@hotmail.com\")\n",
    "    try:\n",
    "        return geolocator.geocode(address)\n",
    "    except GeocoderTimedOut:\n",
    "        return do_geocode(address)"
   ]
  },
  {
   "cell_type": "code",
   "execution_count": 223,
   "metadata": {},
   "outputs": [
    {
     "data": {
      "text/plain": [
       "['SAO BERNARDO DO CAMPO - SP',\n",
       " 'TABOAO DA SERRA - SP',\n",
       " 'RIBEIRAO PIRES - SP',\n",
       " ' EMBU DAS ARTES - SP',\n",
       " 'SUZANO - SP']"
      ]
     },
     "execution_count": 223,
     "metadata": {},
     "output_type": "execute_result"
    }
   ],
   "source": [
    "municipios = [municipio + \" - SP\" for municipio in df_covid2.Municipio.unique()]\n",
    "municipios[:5]"
   ]
  },
  {
   "cell_type": "code",
   "execution_count": null,
   "metadata": {},
   "outputs": [],
   "source": [
    "latitude = []\n",
    "longitude = []\n",
    "for m in municipios:\n",
    "    location = do_geocode(endereco)\n",
    "    latitude = location.latitude\n",
    "#                 longitude = location.longitude"
   ]
  }
 ],
 "metadata": {
  "kernelspec": {
   "display_name": "Python 3",
   "language": "python",
   "name": "python3"
  },
  "language_info": {
   "codemirror_mode": {
    "name": "ipython",
    "version": 3
   },
   "file_extension": ".py",
   "mimetype": "text/x-python",
   "name": "python",
   "nbconvert_exporter": "python",
   "pygments_lexer": "ipython3",
   "version": "3.6.9"
  }
 },
 "nbformat": 4,
 "nbformat_minor": 4
}
